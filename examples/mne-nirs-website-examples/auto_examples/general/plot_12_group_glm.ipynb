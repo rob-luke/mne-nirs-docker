{
  "cells": [
    {
      "cell_type": "code",
      "execution_count": null,
      "metadata": {
        "collapsed": false
      },
      "outputs": [],
      "source": [
        "%matplotlib inline"
      ]
    },
    {
      "cell_type": "markdown",
      "metadata": {},
      "source": [
        "\n\n# Group Level GLM Analysis\n\nThis is an example of a group level GLM based\nfunctional near-infrared spectroscopy (fNIRS)\nanalysis in MNE-NIRS.\n\n.. sidebar:: Relevant literature\n\n   Luke, Robert, et al.\n   \"Analysis methods for measuring passive auditory fNIRS responses generated\n   by a block-design paradigm.\" Neurophotonics 8.2 (2021):\n   `025008 <https://www.spiedigitallibrary.org/journals/neurophotonics/volume-8/issue-2/025008/Analysis-methods-for-measuring-passive-auditory-fNIRS-responses-generated-by/10.1117/1.NPh.8.2.025008.short>`_.\n\n   Santosa, H., Zhai, X., Fishburn, F., & Huppert, T. (2018).\n   The NIRS brain AnalyzIR toolbox. Algorithms, 11(5), 73.\n\n   Gorgolewski, Krzysztof J., et al.\n   \"The brain imaging data structure, a format for organizing and describing\n   outputs of neuroimaging experiments.\" Scientific data 3.1 (2016): 1-9.\n\nIndividual level analysis of this data is described in the\n`MNE fNIRS waveform tutorial <mne:tut-fnirs-processing>`\nand the\n`MNE-NIRS fNIRS GLM tutorial <tut-fnirs-hrf>`\nSo this example will skim over the individual level details\nand focus on the group level aspect of analysis.\nHere we describe how to process multiple measurements\nand summarise  group level effects both as summary statistics and visually.\n\nThe data used in this example is available\n`at this location <https://github.com/rob-luke/BIDS-NIRS-Tapping>`_.\nIt is a finger tapping example and is briefly described below.\nThe dataset contains 5 participants.\nThe example dataset is in\n`BIDS <https://bids.neuroimaging.io>`_\nformat and therefore already contains\ninformation about triggers, condition names, etc.\n\n<div class=\"alert alert-info\"><h4>Note</h4><p>The BIDS specification for NIRS data is still under development. See:\n   `fNIRS BIDS proposal <https://github.com/bids-standard/bids-specification/pull/802>`_.\n   As such, you must use the development branch of MNE-BIDS.\n\n   To install the fNIRS development branch of MNE-BIDS run:\n   `pip install https://codeload.github.com/rob-luke/mne-bids/zip/nirs`</p></div>\n\n.. collapse:: |chevron-circle-down| Data description (click to expand)\n   :class: success\n\n   Optodes were placed over the motor cortex using the standard NIRX motor\n   montage, but with 8 short channels added (see their web page for details).\n   To view the sensor locations run\n   `raw_intensity.plot_sensors()`.\n   A sound was presented to indicate which hand the participant should tap.\n   Participants tapped their thumb to their fingers for 5s.\n   Conditions were presented in a random order with a randomised inter\n   stimulus interval.\n   :depth: 2\n"
      ]
    },
    {
      "cell_type": "code",
      "execution_count": null,
      "metadata": {
        "collapsed": false
      },
      "outputs": [],
      "source": [
        "# sphinx_gallery_thumbnail_number = 2\n\n# Authors: Robert Luke <mail@robertluke.net>\n#\n# License: BSD (3-clause)\n\n\n# Import common libraries\nimport numpy as np\nimport pandas as pd\n\n# Import MNE processing\nfrom mne.preprocessing.nirs import optical_density, beer_lambert_law\n\n# Import MNE-NIRS processing\nfrom mne_nirs.statistics import run_GLM\nfrom mne_nirs.experimental_design import make_first_level_design_matrix\nfrom mne_nirs.statistics import glm_region_of_interest, statsmodels_to_results\nfrom mne_nirs.statistics import compute_contrast\nfrom mne_nirs.channels import get_short_channels, get_long_channels\nfrom mne_nirs.channels import picks_pair_to_idx\nfrom mne_nirs.utils._io import glm_to_tidy\nfrom mne_nirs.visualisation import plot_glm_group_topo\nfrom mne_nirs.datasets import fnirs_motor_group\nfrom mne_nirs.visualisation import plot_glm_surface_projection\n\n# Import MNE-BIDS processing\nfrom mne_bids import BIDSPath, read_raw_bids\n\n# Import StatsModels\nimport statsmodels.formula.api as smf\n\n# Import Plotting Library\nimport matplotlib.pyplot as plt\nimport matplotlib as mpl\nfrom lets_plot import *\nLetsPlot.setup_html()"
      ]
    },
    {
      "cell_type": "markdown",
      "metadata": {},
      "source": [
        "## Define individual analysis\n\n.. sidebar:: Individual analysis procedures\n\n   `Waveform individual analysis <tut-fnirs-processing>`\n\n   `GLM individual analysis <tut-fnirs-hrf>`\n\nFirst we define the analysis that will be applied to each file.\nThis is a GLM analysis as described in the\n`individual GLM tutorial <tut-fnirs-hrf>`,\nso this example will skim over the individual level details.\n\nThe analysis extracts a response estimate for each channel,\neach region of interest, and computes a contrast between left and right\nfinger tapping.\nWe return the raw object and data frames for the computed results.\nInformation about channels, triggers and their meanings are stored in the\nBIDS structure and are automatically obtained when importing the data.\n\nHere we also resample to a 0.3 Hz sample rate just to speed up the example\nand use less memory, resampling to 0.6 Hz is a better choice for full\nanalyses.\n\n"
      ]
    },
    {
      "cell_type": "code",
      "execution_count": null,
      "metadata": {
        "collapsed": false
      },
      "outputs": [],
      "source": [
        "def individual_analysis(bids_path, ID):\n\n    raw_intensity = read_raw_bids(bids_path=bids_path, verbose=False)\n\n    # Convert signal to haemoglobin and resample\n    raw_od = optical_density(raw_intensity)\n    raw_haemo = beer_lambert_law(raw_od)\n    raw_haemo.resample(0.3)\n\n    # Cut out just the short channels for creating a GLM repressor\n    sht_chans = get_short_channels(raw_haemo)\n    raw_haemo = get_long_channels(raw_haemo)\n\n    # Create a design matrix\n    design_matrix = make_first_level_design_matrix(raw_haemo, stim_dur=5.0)\n\n    # Append short channels mean to design matrix\n    design_matrix[\"ShortHbO\"] = np.mean(sht_chans.copy().pick(picks=\"hbo\").get_data(), axis=0)\n    design_matrix[\"ShortHbR\"] = np.mean(sht_chans.copy().pick(picks=\"hbr\").get_data(), axis=0)\n\n    # Run GLM\n    glm_est = run_GLM(raw_haemo, design_matrix)\n\n    # Define channels in each region of interest\n    # List the channel pairs manually\n    left = [[4, 3], [1, 3], [3, 3], [1, 2], [2, 3], [1, 1]]\n    right = [[8, 7], [5, 7], [7, 7], [5, 6], [6, 7], [5, 5]]\n    # Then generate the correct indices for each pair\n    groups = dict(\n        Left_Hemisphere=picks_pair_to_idx(raw_haemo, left, on_missing='ignore'),\n        Right_Hemisphere=picks_pair_to_idx(raw_haemo, right, on_missing='ignore'))\n\n    # Extract channel metrics\n    cha = glm_to_tidy(raw_haemo, glm_est, design_matrix)\n    cha[\"ID\"] = ID  # Add the participant ID to the dataframe\n\n    # Compute region of interest results from channel data\n    roi = pd.DataFrame()\n    for idx, col in enumerate(design_matrix.columns):\n        roi = roi.append(glm_region_of_interest(glm_est, groups, idx, col))\n    roi[\"ID\"] = ID  # Add the participant ID to the dataframe\n\n    # Contrast left vs right tapping\n    contrast_matrix = np.eye(design_matrix.shape[1])\n    basic_conts = dict([(column, contrast_matrix[i])\n                        for i, column in enumerate(design_matrix.columns)])\n    contrast_LvR = basic_conts['Tapping/Left'] - basic_conts['Tapping/Right']\n    contrast = compute_contrast(glm_est, contrast_LvR)\n    con = glm_to_tidy(raw_haemo, contrast, design_matrix)\n    con[\"ID\"] = ID  # Add the participant ID to the dataframe\n\n    # Convert to uM for nicer plotting below.\n    cha[\"theta\"] = [t * 1.e6 for t in cha[\"theta\"]]\n    roi[\"theta\"] = [t * 1.e6 for t in roi[\"theta\"]]\n    con[\"effect\"] = [t * 1.e6 for t in con[\"effect\"]]\n\n    return raw_haemo, roi, cha, con"
      ]
    },
    {
      "cell_type": "markdown",
      "metadata": {},
      "source": [
        "## Run analysis on all participants\n\nNext we loop through the five measurements and run the individual analysis\non each. We append the individual results in to a large dataframe that\nwill contain the results from all measurements. We create a group dataframe\nfor the region of interest, channel level, and contrast results.\n\n"
      ]
    },
    {
      "cell_type": "code",
      "execution_count": null,
      "metadata": {
        "collapsed": false
      },
      "outputs": [],
      "source": [
        "df_roi = pd.DataFrame()  # To store region of interest results\ndf_cha = pd.DataFrame()  # To store channel level results\ndf_con = pd.DataFrame()  # To store channel level contrast results\n\nfor sub in range(1, 6):  # Loop from first to fifth subject\n    ID = '%02d' % sub  # Tidy the subject name\n\n    # Create path to file based on experiment info\n    bids_path = BIDSPath(subject=ID, task=\"tapping\",\n                         root=fnirs_motor_group.data_path(),\n                         datatype=\"nirs\", suffix=\"nirs\", extension=\".snirf\")\n\n    # Analyse data and return both ROI and channel results\n    raw_haemo, roi, channel, con = individual_analysis(bids_path, ID)\n\n    # Append individual results to all participants\n    df_roi = df_roi.append(roi)\n    df_cha = df_cha.append(channel)\n    df_con = df_con.append(con)"
      ]
    },
    {
      "cell_type": "markdown",
      "metadata": {},
      "source": [
        "## Visualise Individual results\n\nFirst we visualise the results from each individual to ensure the\ndata values look reasonable.\nHere we see that we have data from five participants, we plot just the HbO\nvalues and observe they are in the expect range.\nWe can already see that the control condition is always near zero,\nand that the responses look to be contralateral to the tapping hand.\n\n"
      ]
    },
    {
      "cell_type": "code",
      "execution_count": null,
      "metadata": {
        "collapsed": false
      },
      "outputs": [],
      "source": [
        "grp_results = df_roi.query(\"Condition in ['Control', 'Tapping/Left', 'Tapping/Right']\")\ngrp_results = grp_results.query(\"Chroma in ['hbo']\")\n\nggplot(grp_results, aes(x='Condition', y='theta', color='ROI', shape='ROI')) \\\n    + geom_hline(y_intercept=0, linetype=\"dashed\", size=1) \\\n    + geom_point(size=5) \\\n    + facet_grid('ID') \\\n    + ggsize(900, 350)"
      ]
    },
    {
      "cell_type": "markdown",
      "metadata": {},
      "source": [
        "## Compute group level results\n\n.. sidebar:: Relevant literature\n\n   For an introduction to mixed effects analysis see:\n   Winter, Bodo. \"A very basic tutorial for performing linear mixed effects\n   analyses.\" arXiv preprint arXiv:1308.5499 (2013).\n\n   For a summary of linear mixed models in python\n   and the relation to lmer see:\n   `statsmodels docs <statsmodels:mixedlmmod>`\n\n   For a summary of these models in the context of fNIRS see section 3.5 of:\n   Santosa, H., Zhai, X., Fishburn, F., & Huppert, T. (2018).\n   The NIRS brain AnalyzIR toolbox. Algorithms, 11(5), 73.\n\nNext we use a linear mixed effects model to examine the\nrelation between conditions and our response estimate (theta).\nCombinations of 3 fixed effects will be evaluated, ROI (left vs right),\ncondition (control, tapping/left, tapping/right), and chromophore (HbO, HbR).\nWith a random effect of subject.\nAlternatively, you could export the group dataframe (`df_roi.to_csv()`) and\nanalyse in your favorite stats program.\n\nWe do not explore the modeling procedure in depth here as topics\nsuch model selection and examining residuals are beyond the scope of\nthis example (see relevant literature).\nAlternatively, we could use a robust linear\nmodel by using the code\n`roi_model = rlm('theta ~ -1 + ROI:Condition:Chroma', grp_results).fit()`.\n\n"
      ]
    },
    {
      "cell_type": "code",
      "execution_count": null,
      "metadata": {
        "collapsed": false
      },
      "outputs": [],
      "source": [
        "grp_results = df_roi.query(\"Condition in ['Control','Tapping/Left', 'Tapping/Right']\")\n\nroi_model = smf.mixedlm(\"theta ~ -1 + ROI:Condition:Chroma\",\n                        grp_results, groups=grp_results[\"ID\"]).fit(method='nm')\nroi_model.summary()"
      ]
    },
    {
      "cell_type": "markdown",
      "metadata": {},
      "source": [
        "## Visualise group results\n\nNow we can summarise the output of the second level model.\nThis figure shows that the control condition has small responses that\nare not significantly different to zero for both HbO\nand HbR in both hemispheres.\nWhereas clear significant responses are show for the two tapping conditions.\nWe also observe the the tapping response is\nlarger in the contralateral hemisphere.\nFilled symbols represent HbO, unfilled symbols represent HbR.\n\n"
      ]
    },
    {
      "cell_type": "code",
      "execution_count": null,
      "metadata": {
        "collapsed": false
      },
      "outputs": [],
      "source": [
        "df = statsmodels_to_results(roi_model)\n\nggplot(df.query(\"Chroma == 'hbo'\"),\n       aes(x='Condition', y='Coef.', color='Significant', shape='ROI')) \\\n    + geom_hline(y_intercept=0, linetype=\"dashed\", size=1) \\\n    + geom_point(size=5) \\\n    + scale_shape_manual(values=[16, 17]) \\\n    + ggsize(900, 300) \\\n    + geom_point(data=df.query(\"Chroma == 'hbr'\")\n                 .query(\"ROI == 'Left_Hemisphere'\"), size=5, shape=1) \\\n    + geom_point(data=df.query(\"Chroma == 'hbr'\")\n                 .query(\"ROI == 'Right_Hemisphere'\"), size=5, shape=2)"
      ]
    },
    {
      "cell_type": "markdown",
      "metadata": {},
      "source": [
        "## Group topographic visualisation\n\nWe can also view the topographic representation of the data\n(rather than the ROI summary above).\nHere we just plot the oxyhaemoglobin for the two tapping conditions.\nFirst we compute the mixed effects model for each channel (rather\nthan region of interest as above).\nThen we pass these results to the topomap function.\n\n"
      ]
    },
    {
      "cell_type": "code",
      "execution_count": null,
      "metadata": {
        "collapsed": false
      },
      "outputs": [],
      "source": [
        "fig, axes = plt.subplots(nrows=2, ncols=2, figsize=(10, 10),\n                         gridspec_kw=dict(width_ratios=[1, 1]))\n\n# Cut down the dataframe just to the conditions we are interested in\nch_summary = df_cha.query(\"Condition in ['Tapping/Left', 'Tapping/Right']\")\nch_summary = ch_summary.query(\"Chroma in ['hbo']\")\n\n# Run group level model and convert to dataframe\nch_model = smf.mixedlm(\"theta ~ -1 + ch_name:Chroma:Condition\",\n                       ch_summary, groups=ch_summary[\"ID\"]).fit(method='nm')\nch_model_df = statsmodels_to_results(ch_model)\n\n# Plot the two conditions\nplot_glm_group_topo(raw_haemo.copy().pick(picks=\"hbo\"),\n                    ch_model_df.query(\"Condition in ['Tapping/Left']\"),\n                    colorbar=False, axes=axes[0, 0],\n                    vmin=0, vmax=20, cmap=mpl.cm.Oranges)\n\nplot_glm_group_topo(raw_haemo.copy().pick(picks=\"hbo\"),\n                    ch_model_df.query(\"Condition in ['Tapping/Right']\"),\n                    colorbar=True, axes=axes[0, 1],\n                    vmin=0, vmax=20, cmap=mpl.cm.Oranges)\n\n# Cut down the dataframe just to the conditions we are interested in\nch_summary = df_cha.query(\"Condition in ['Tapping/Left', 'Tapping/Right']\")\nch_summary = ch_summary.query(\"Chroma in ['hbr']\")\n\n# Run group level model and convert to dataframe\nch_model = smf.mixedlm(\"theta ~ -1 + ch_name:Chroma:Condition\",\n                       ch_summary, groups=ch_summary[\"ID\"]).fit(method='nm')\nch_model_df = statsmodels_to_results(ch_model)\n\n# Plot the two conditions\nplot_glm_group_topo(raw_haemo.copy().pick(picks=\"hbr\"),\n                    ch_model_df.query(\"Condition in ['Tapping/Left']\"),\n                    colorbar=False, axes=axes[1, 0],\n                    vmin=-10, vmax=0, cmap=mpl.cm.Blues_r)\nplot_glm_group_topo(raw_haemo.copy().pick(picks=\"hbr\"),\n                    ch_model_df.query(\"Condition in ['Tapping/Right']\"),\n                    colorbar=True, axes=axes[1, 1],\n                    vmin=-10, vmax=0, cmap=mpl.cm.Blues_r)"
      ]
    },
    {
      "cell_type": "markdown",
      "metadata": {},
      "source": [
        "## Contrasts\n\nFinally we can examine the difference between the left and right hand\ntapping conditions by viewing the contrast results\nin a topographic representation.\n\n"
      ]
    },
    {
      "cell_type": "code",
      "execution_count": null,
      "metadata": {
        "collapsed": false
      },
      "outputs": [],
      "source": [
        "fig, axes = plt.subplots(nrows=1, ncols=1, figsize=(6, 6))\ncon_summary = df_con.query(\"Chroma in ['hbo']\")\n\n# Run group level model and convert to dataframe\ncon_model = smf.mixedlm(\"effect ~ -1 + ch_name:Chroma\",\n                        con_summary, groups=con_summary[\"ID\"]).fit(method='nm')\ncon_model_df = statsmodels_to_results(con_model,\n                                      order=raw_haemo.copy().pick(\n                                          picks=\"hbo\").ch_names)\n\nplot_glm_group_topo(raw_haemo.copy().pick(picks=\"hbo\"),\n                    con_model_df, colorbar=True, axes=axes)"
      ]
    },
    {
      "cell_type": "markdown",
      "metadata": {},
      "source": [
        "Or we can view only the left hemisphere for the contrast.\nAnd set all channels that dont have a significant response to zero.\n\n\n"
      ]
    },
    {
      "cell_type": "code",
      "execution_count": null,
      "metadata": {
        "collapsed": false
      },
      "outputs": [],
      "source": [
        "plot_glm_group_topo(raw_haemo.copy().pick(picks=\"hbo\").pick(picks=range(10)),\n                    con_model_df, colorbar=True, threshold=True)"
      ]
    },
    {
      "cell_type": "markdown",
      "metadata": {},
      "source": [
        "## Cortical Surface Projections\n\n.. sidebar:: 3D plotting\n\n   Due to limitations with the cloud computing used to generate these\n   documents, the 3D plot will not appear in the online documentation.\n   However, when you run this code locally you will obtain a 3D head figure\n   simillar to what is shown in the tutorial:\n   `ECOG tutorial <https://mne.tools/dev/auto_tutorials/clinical/30_ecog.html#sphx-glr-auto-tutorials-clinical-30-ecog-py>`_.\n\nThe topographic plots above can sometimes be difficult to interpret with\nrespect to the underlying cortical locations. It is also possible to present\nthe data by projecting the channel level GLM values to the nearest cortical\nsurface. This can make it easier to understand the spatial aspects of your\ndata. Note however, that this is not a complete forward model with photon\nmigration simulations.\nIn the figure below we project the group results from the two conditions\nto the cortical surface, and also present the contrast results in the same\nfashion.\nAs in the topo plots above you can see that the activity is predominately\ncontralateral to the side of finger tapping.\n\n"
      ]
    },
    {
      "cell_type": "code",
      "execution_count": null,
      "metadata": {
        "collapsed": false
      },
      "outputs": [],
      "source": [
        "# Generate brain figure from data\nclim = dict(kind='value', pos_lims=(0, 8, 11))\nbrain = plot_glm_surface_projection(raw_haemo.copy().pick(\"hbo\"),\n                                    con_model_df, clim=clim, view='dorsal',\n                                    colorbar=True, size=(800, 700))\nbrain.add_text(0.05, 0.95, \"Left-Right\", 'title', font_size=16, color='k')\n\n# Run model code as above\nclim = dict(kind='value', pos_lims=(0, 11.5, 17))\nfor idx, cond in enumerate(['Tapping/Left', 'Tapping/Right']):\n\n    # Run same model as explained in the sections above\n    ch_summary = df_cha.query(\"Condition in [@cond]\")\n    ch_summary = ch_summary.query(\"Chroma in ['hbo']\")\n    ch_model = smf.mixedlm(\"theta ~ -1 + ch_name\", ch_summary,\n                           groups=ch_summary[\"ID\"]).fit(method='nm')\n    model_df = statsmodels_to_results(ch_model)\n\n    # Generate brain figure from data\n    brain = plot_glm_surface_projection(raw_haemo.copy().pick(\"hbo\"),\n                                        model_df, clim=clim, view='dorsal',\n                                        colorbar=True, size=(800, 700))\n    brain.add_text(0.05, 0.95, cond, 'title', font_size=16, color='k')"
      ]
    },
    {
      "cell_type": "markdown",
      "metadata": {},
      "source": [
        "## Table of channel level results\n\nSometimes a reviewer wants a long table of results per channel.\nThis can be generated from the statistics dataframe.\n\n"
      ]
    },
    {
      "cell_type": "code",
      "execution_count": null,
      "metadata": {
        "collapsed": false
      },
      "outputs": [],
      "source": [
        "ch_summary = df_cha.query(\"Condition in ['Tapping/Left', 'Tapping/Right']\")\nch_summary = ch_summary.query(\"Chroma in ['hbo']\")\n\n# Run group level model and convert to dataframe\nch_model = smf.mixedlm(\"theta ~ -1 + ch_name:Chroma:Condition\",\n                       ch_summary, groups=ch_summary[\"ID\"]).fit(method='nm')\n\n# Here we can use the order argument to ensure the channel name order\nch_model_df = statsmodels_to_results(ch_model,\n                                     order=raw_haemo.copy().pick(\n                                         picks=\"hbo\").ch_names)\n# And make the table prettier\nch_model_df.reset_index(drop=True, inplace=True)\nch_model_df = ch_model_df.set_index(['ch_name', 'Condition'])\nch_model_df"
      ]
    }
  ],
  "metadata": {
    "kernelspec": {
      "display_name": "Python 3",
      "language": "python",
      "name": "python3"
    },
    "language_info": {
      "codemirror_mode": {
        "name": "ipython",
        "version": 3
      },
      "file_extension": ".py",
      "mimetype": "text/x-python",
      "name": "python",
      "nbconvert_exporter": "python",
      "pygments_lexer": "ipython3",
      "version": "3.8.10"
    }
  },
  "nbformat": 4,
  "nbformat_minor": 0
}