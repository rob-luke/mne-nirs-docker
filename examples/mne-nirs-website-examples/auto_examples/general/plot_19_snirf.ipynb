{
  "cells": [
    {
      "cell_type": "code",
      "execution_count": null,
      "metadata": {
        "collapsed": false
      },
      "outputs": [],
      "source": [
        "%matplotlib inline"
      ]
    },
    {
      "cell_type": "markdown",
      "metadata": {},
      "source": [
        "\n\n# SNIRF Support in MNE\n\n.. sidebar:: .nirs files\n\n   If you wish to process your .nirs files in MNE use the official snirf\n   converter to create .snirf file.\n   See https://github.com/fNIRS/snirf_homer3\n\nSNIRF is a file format for storing\nfunctional near-infrared spectroscopy (fNIRS)\ndata. The specification is maintained\nby the society for functional near infrared spectroscopy. In this tutorial\nwe demonstrate how to convert your MNE data to SNIRF and also how to read\nSNIRF files.\n\nRead the SNIRF protocol over at https://github.com/fNIRS/snirf\n   :depth: 2\n"
      ]
    },
    {
      "cell_type": "code",
      "execution_count": null,
      "metadata": {
        "collapsed": false
      },
      "outputs": [],
      "source": [
        "# Authors: Robert Luke <mail@robertluke.net>\n#\n# License: BSD (3-clause)\n\nimport os\nimport mne\n\nfrom mne.io import read_raw_nirx, read_raw_snirf\nfrom mne_nirs.io import write_raw_snirf\nfrom numpy.testing import assert_allclose"
      ]
    },
    {
      "cell_type": "markdown",
      "metadata": {},
      "source": [
        "## Import raw NIRS data from vendor\n\nFirst we import some example data recorded with a NIRX device.\n\n"
      ]
    },
    {
      "cell_type": "code",
      "execution_count": null,
      "metadata": {
        "collapsed": false
      },
      "outputs": [],
      "source": [
        "fnirs_data_folder = mne.datasets.fnirs_motor.data_path()\nfnirs_raw_dir = os.path.join(fnirs_data_folder, 'Participant-1')\nraw_intensity = read_raw_nirx(fnirs_raw_dir).load_data()"
      ]
    },
    {
      "cell_type": "markdown",
      "metadata": {},
      "source": [
        "## Write data as SNIRF\n\nNow we can write this data back to disk in the SNIRF format.\n\n"
      ]
    },
    {
      "cell_type": "code",
      "execution_count": null,
      "metadata": {
        "collapsed": false
      },
      "outputs": [],
      "source": [
        "write_raw_snirf(raw_intensity, 'test_raw.snirf')"
      ]
    },
    {
      "cell_type": "markdown",
      "metadata": {},
      "source": [
        "## Read back SNIRF file\n\nNext we can read back the snirf file.\n\n"
      ]
    },
    {
      "cell_type": "code",
      "execution_count": null,
      "metadata": {
        "collapsed": false
      },
      "outputs": [],
      "source": [
        "snirf_intensity = read_raw_snirf('test_raw.snirf')"
      ]
    },
    {
      "cell_type": "markdown",
      "metadata": {},
      "source": [
        "## Compare files\n\nFinally we can compare the data of the original to the SNIRF format and\nensure that the values are the same.\n\n"
      ]
    },
    {
      "cell_type": "code",
      "execution_count": null,
      "metadata": {
        "collapsed": false
      },
      "outputs": [],
      "source": [
        "assert_allclose(raw_intensity.get_data(), snirf_intensity.get_data())\n\nsnirf_intensity.plot(n_channels=30, duration=300, show_scrollbars=False)"
      ]
    }
  ],
  "metadata": {
    "kernelspec": {
      "display_name": "Python 3",
      "language": "python",
      "name": "python3"
    },
    "language_info": {
      "codemirror_mode": {
        "name": "ipython",
        "version": 3
      },
      "file_extension": ".py",
      "mimetype": "text/x-python",
      "name": "python",
      "nbconvert_exporter": "python",
      "pygments_lexer": "ipython3",
      "version": "3.8.10"
    }
  },
  "nbformat": 4,
  "nbformat_minor": 0
}