{
 "cells": [
  {
   "cell_type": "markdown",
   "id": "7631fa31-baf6-445c-b4fe-32a20b1a4440",
   "metadata": {},
   "source": [
    "# Introduction to MNE-NIRS and MNE-Python "
   ]
  },
  {
   "cell_type": "markdown",
   "id": "9231cc1a-eb7b-4041-a9eb-3287062f1b52",
   "metadata": {},
   "source": [
    "Useful links:\n",
    "\n",
    "Documentation:\n",
    "* MNE-Python: https://mne.tools\n",
    "* MNE-NIRS: https://mne.tools/mne-nirs\n",
    "\n",
    "Code:\n",
    "* MNE-Python: hhttps://github.com/mne-tools/mne-python\n",
    "* MNE-NIRS: https://github.com/mne-tools/mne-nirs\n",
    "\n",
    "Community:\n",
    "* User forum: https://mne.discourse.group/\n",
    "* Chat room: https://discord.com/invite/rKfvxTuATa\n",
    "\n",
    "Tutorials:\n",
    "* All fNIRS tutorials: https://mne.tools/mne-nirs/master/auto_examples/index.html"
   ]
  },
  {
   "cell_type": "markdown",
   "id": "8c17a325-cb8c-4e89-87b2-a867d567668b",
   "metadata": {},
   "source": [
    "## Outline\n",
    "\n",
    "This tutorial will cover the following:\n",
    "\n",
    "* What is MNE and MNE-NIRS?\n",
    "* Where can I get help using MNE?\n",
    "* The basics\n",
    "  * Python basics\n",
    "  * How to load NIRx data\n",
    "  * How to view raw data\n",
    "  * How to manipulate data\n",
    "    * How to pick channels\n",
    "    * How to crop data\n",
    "* Basic signal processing\n",
    "..."
   ]
  },
  {
   "cell_type": "markdown",
   "id": "c6a167e8-032f-4b69-a97e-24e3097e7dd3",
   "metadata": {},
   "source": [
    "## Python basics"
   ]
  },
  {
   "cell_type": "markdown",
   "id": "13dd4c9c-731d-4789-b7aa-cb03e0f5e2e9",
   "metadata": {},
   "source": [
    "### Packages and functions"
   ]
  },
  {
   "cell_type": "code",
   "execution_count": null,
   "id": "7038b70e-5007-4cb2-b8f2-7cda2347f47b",
   "metadata": {},
   "outputs": [],
   "source": [
    "# Importing a package\n",
    "import mne\n",
    "import mne_nirs"
   ]
  },
  {
   "cell_type": "code",
   "execution_count": null,
   "id": "e9216f3d-3b16-4376-be3a-0c76e004321b",
   "metadata": {},
   "outputs": [],
   "source": [
    "# Other ways to import a package\n",
    "import numpy as np"
   ]
  },
  {
   "cell_type": "code",
   "execution_count": null,
   "id": "139b3dfa-d7ff-40df-a350-ff474f05e122",
   "metadata": {},
   "outputs": [],
   "source": [
    "# Import just a single function from a package\n",
    "from itertools import compress"
   ]
  },
  {
   "cell_type": "code",
   "execution_count": null,
   "id": "be550840-e77b-471a-b578-d16f8c28a1be",
   "metadata": {},
   "outputs": [],
   "source": [
    "# Running a function\n",
    "np.zeros(4)"
   ]
  },
  {
   "cell_type": "code",
   "execution_count": null,
   "id": "cc1fa1ad-23d8-41ec-bacb-9e37a8b65bdf",
   "metadata": {},
   "outputs": [],
   "source": [
    "# Set defaults using a function\n",
    "mne.viz.set_3d_backend(\"notebook\")"
   ]
  },
  {
   "cell_type": "markdown",
   "id": "ec6b9946-45a5-42ba-aa44-e0471414e727",
   "metadata": {},
   "source": [
    "## How to load NIRx data"
   ]
  },
  {
   "cell_type": "code",
   "execution_count": null,
   "id": "2daa53a7-eb4c-4325-bdd8-3315ea108584",
   "metadata": {},
   "outputs": [],
   "source": [
    "# Import required libraries\n",
    "import os\n",
    "import matplotlib.pyplot as plt"
   ]
  },
  {
   "cell_type": "code",
   "execution_count": null,
   "id": "63c270ef-771f-4f26-b510-2d3556491291",
   "metadata": {},
   "outputs": [],
   "source": [
    "# Download example data and report the path to data\n",
    "fnirs_data_folder = mne.datasets.fnirs_motor.data_path()\n",
    "fnirs_data_folder"
   ]
  },
  {
   "cell_type": "code",
   "execution_count": null,
   "id": "49733d58-4e60-4504-946c-11471f7e87b2",
   "metadata": {},
   "outputs": [],
   "source": [
    "# Get path for just the first participant\n",
    "fname = '/home/mne_user/mne_data/MNE-fNIRS-motor-data'"
   ]
  },
  {
   "cell_type": "code",
   "execution_count": null,
   "id": "6fff71e7-91ed-4d97-80c3-23210e30763c",
   "metadata": {},
   "outputs": [],
   "source": [
    "# Load the NIRx data\n",
    "raw_intensity = mne.io.read_raw_nirx(fnirs_cw_amplitude_dir, verbose=True, preload=True)"
   ]
  },
  {
   "cell_type": "code",
   "execution_count": null,
   "id": "f9a21ee4-db11-4e12-93d6-8ed342d7ea42",
   "metadata": {},
   "outputs": [],
   "source": [
    "raw_intensity"
   ]
  },
  {
   "cell_type": "markdown",
   "id": "f3b271b6-4482-4005-b293-5d277c438074",
   "metadata": {},
   "source": [
    "## How to view your data"
   ]
  },
  {
   "cell_type": "code",
   "execution_count": null,
   "id": "56e9be76-1b49-45f3-b3f4-6d0f6b54877f",
   "metadata": {},
   "outputs": [],
   "source": [
    "raw_intensity.plot_sensors();"
   ]
  },
  {
   "cell_type": "code",
   "execution_count": null,
   "id": "7b208bb6-8e32-4616-b80c-2a9ba10e745c",
   "metadata": {},
   "outputs": [],
   "source": [
    "plt.rcParams[\"figure.figsize\"] = (16, 10) # (w, h)\n",
    "raw_intensity.plot(duration=300, n_channels=len(raw_intensity.ch_names));"
   ]
  },
  {
   "cell_type": "code",
   "execution_count": null,
   "id": "3c68cc65-5bc7-4826-9661-db10d792681b",
   "metadata": {},
   "outputs": [],
   "source": [
    "events, event_dict = mne.events_from_annotations(raw_intensity, verbose=False)"
   ]
  },
  {
   "cell_type": "code",
   "execution_count": null,
   "id": "f280ec3c-7b36-436e-9681-d6890073b11b",
   "metadata": {},
   "outputs": [],
   "source": [
    "event_dict = {'Control': 1, 'Tapping/Left': 4, 'Tapping/Right': 3, 'ExperimentEnds': 2}"
   ]
  },
  {
   "cell_type": "code",
   "execution_count": null,
   "id": "b9166571-a4e1-420d-94b2-1a8abb131961",
   "metadata": {},
   "outputs": [],
   "source": [
    "plt.rcParams[\"figure.figsize\"] = (16, 6) # (w, h)\n",
    "mne.viz.plot_events(events, event_id=event_dict, sfreq=raw_intensity.info['sfreq']);"
   ]
  },
  {
   "cell_type": "markdown",
   "id": "272029bb-31a0-4731-ae06-60b2d132bd54",
   "metadata": {},
   "source": [
    "## How to manipulate data"
   ]
  },
  {
   "cell_type": "code",
   "execution_count": null,
   "id": "60073e76-36d8-49b9-9ab9-21a4c3c0d45e",
   "metadata": {},
   "outputs": [],
   "source": [
    "raw = raw_intensity.copy()"
   ]
  },
  {
   "cell_type": "code",
   "execution_count": null,
   "id": "878527ce-c554-4374-b82d-eb95e94e9c62",
   "metadata": {},
   "outputs": [],
   "source": [
    "raw"
   ]
  },
  {
   "cell_type": "markdown",
   "id": "55b12b35-0d06-4635-9271-3e2b591768b2",
   "metadata": {},
   "source": [
    "### Picking channels"
   ]
  },
  {
   "cell_type": "code",
   "execution_count": null,
   "id": "94e081a1-df48-4849-939d-143234e1c455",
   "metadata": {},
   "outputs": [],
   "source": [
    "raw.copy().pick(picks=[0, 1, 2, 3])"
   ]
  },
  {
   "cell_type": "code",
   "execution_count": null,
   "id": "06d16c86-2069-408d-baaa-059cb3203233",
   "metadata": {},
   "outputs": [],
   "source": [
    "plt.rcParams[\"figure.figsize\"] = (6, 6) # (w, h)\n",
    "raw.copy().pick(picks=[0, 1, 2, 3]).plot_sensors();"
   ]
  },
  {
   "cell_type": "code",
   "execution_count": null,
   "id": "f27ca99b-31f9-4920-a60e-f3dc77b601e3",
   "metadata": {},
   "outputs": [],
   "source": [
    "raw.copy().pick(picks=[0, 1, 2, 3]).plot(duration=300);"
   ]
  },
  {
   "cell_type": "code",
   "execution_count": null,
   "id": "aab22061-a233-495e-8b70-fd849b62097b",
   "metadata": {},
   "outputs": [],
   "source": [
    "raw.copy().pick(picks=[10]).plot(duration=300);"
   ]
  },
  {
   "cell_type": "code",
   "execution_count": null,
   "id": "31a1d55a-30b1-4285-936d-02b5d723bb2e",
   "metadata": {},
   "outputs": [],
   "source": [
    "raw.copy().pick(picks=range(13, 19)).plot(duration=300);"
   ]
  },
  {
   "cell_type": "markdown",
   "id": "f847aa2d-b173-4585-8c5d-1335937a9861",
   "metadata": {},
   "source": [
    "### Cropping data"
   ]
  },
  {
   "cell_type": "code",
   "execution_count": null,
   "id": "b55da6f6-02d7-4233-8af8-8f3f9dcc4483",
   "metadata": {},
   "outputs": [],
   "source": [
    "raw.copy().crop(tmin=50, tmax=100).plot(duration=300);"
   ]
  },
  {
   "cell_type": "code",
   "execution_count": null,
   "id": "22876348-cd66-458d-a480-25a0811be8f3",
   "metadata": {},
   "outputs": [],
   "source": [
    "raw.copy().pick(range(4)).crop(tmin=50, tmax=100).plot(duration=300);"
   ]
  }
 ],
 "metadata": {
  "kernelspec": {
   "display_name": "Python 3",
   "language": "python",
   "name": "python3"
  },
  "language_info": {
   "codemirror_mode": {
    "name": "ipython",
    "version": 3
   },
   "file_extension": ".py",
   "mimetype": "text/x-python",
   "name": "python",
   "nbconvert_exporter": "python",
   "pygments_lexer": "ipython3",
   "version": "3.8.0"
  }
 },
 "nbformat": 4,
 "nbformat_minor": 5
}
