{
 "cells": [
  {
   "cell_type": "code",
   "execution_count": null,
   "id": "763394b1-fdf4-43f6-9dac-690ec1512a8b",
   "metadata": {},
   "outputs": [],
   "source": [
    "import os\n",
    "import numpy as np\n",
    "import matplotlib.pyplot as plt\n",
    "from itertools import compress\n",
    "\n",
    "import mne\n",
    "mne.viz.set_3d_backend(\"notebook\")\n",
    "\n",
    "fnirs_data_folder = mne.datasets.fnirs_motor.data_path()\n",
    "fnirs_cw_amplitude_dir = os.path.join(fnirs_data_folder, 'Participant-1')\n",
    "raw_intensity = mne.io.read_raw_nirx(fnirs_cw_amplitude_dir, verbose=True)\n",
    "raw_intensity.load_data()"
   ]
  },
  {
   "cell_type": "code",
   "execution_count": null,
   "id": "746d7253-4f00-418a-90d5-52619c35122e",
   "metadata": {},
   "outputs": [],
   "source": [
    "subjects_dir = mne.datasets.sample.data_path() + '/subjects'\n",
    "\n",
    "fig = mne.viz.create_3d_figure(size=(800, 600), bgcolor='white')\n",
    "fig = mne.viz.plot_alignment(raw_intensity.info, show_axes=True,\n",
    "                             subject='fsaverage', coord_frame='mri',\n",
    "                             trans='fsaverage', surfaces=['brain'],\n",
    "                             fnirs=['channels', 'pairs',\n",
    "                                    'sources', 'detectors'],\n",
    "                             subjects_dir=subjects_dir, fig=fig)\n",
    "mne.viz.set_3d_view(figure=fig, azimuth=20, elevation=60, distance=0.4,\n",
    "                    focalpoint=(0., -0.01, 0.02))"
   ]
  }
 ],
 "metadata": {
  "kernelspec": {
   "display_name": "Python 3",
   "language": "python",
   "name": "python3"
  },
  "language_info": {
   "codemirror_mode": {
    "name": "ipython",
    "version": 3
   },
   "file_extension": ".py",
   "mimetype": "text/x-python",
   "name": "python",
   "nbconvert_exporter": "python",
   "pygments_lexer": "ipython3",
   "version": "3.8.0"
  }
 },
 "nbformat": 4,
 "nbformat_minor": 5
}
