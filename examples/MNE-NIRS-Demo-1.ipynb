{
 "cells": [
  {
   "cell_type": "markdown",
   "id": "7631fa31-baf6-445c-b4fe-32a20b1a4440",
   "metadata": {},
   "source": [
    "# Introduction to MNE-NIRS and MNE-Python "
   ]
  },
  {
   "cell_type": "markdown",
   "id": "9231cc1a-eb7b-4041-a9eb-3287062f1b52",
   "metadata": {},
   "source": [
    "Useful links:\n",
    "\n",
    "Documentation:\n",
    "* MNE-Python: https://mne.tools\n",
    "* MNE-NIRS: https://mne.tools/mne-nirs\n",
    "\n",
    "Code:\n",
    "* MNE-Python: hhttps://github.com/mne-tools/mne-python\n",
    "* MNE-NIRS: https://github.com/mne-tools/mne-nirs\n",
    "\n",
    "Community:\n",
    "* User forum: https://mne.discourse.group/\n",
    "* Chat room: https://discord.com/invite/rKfvxTuATa\n",
    "\n",
    "Tutorials:\n",
    "* All fNIRS tutorials: https://mne.tools/mne-nirs/master/auto_examples/index.html"
   ]
  },
  {
   "cell_type": "markdown",
   "id": "8c17a325-cb8c-4e89-87b2-a867d567668b",
   "metadata": {},
   "source": [
    "## Outline\n",
    "\n",
    "This tutorial will cover the following:\n",
    "\n",
    "* What is MNE and MNE-NIRS?\n",
    "* Where can I get help using MNE?\n",
    "* The basics\n",
    "  * Python basics\n",
    "  * How to load NIRx data\n",
    "  * How to view raw data\n",
    "  * How to manipulate data\n",
    "    * How to pick channels\n",
    "    * How to crop data\n",
    "* Basic signal processing\n",
    "  * Conversion to haemoglobin\n",
    "  * Data quality metrics\n",
    "* Waveform analysis\n",
    "\n",
    "### Webinar 2: Advanced topics\n",
    "What should we discuss?\n",
    "* GLM analysis\n",
    "* Group level waveform analysis\n",
    "* Group level GLM analysis\n",
    "* Cortical projection\n",
    "* ...\n",
    "* What do you want to see?"
   ]
  },
  {
   "cell_type": "markdown",
   "id": "c6a167e8-032f-4b69-a97e-24e3097e7dd3",
   "metadata": {},
   "source": [
    "## Python basics"
   ]
  },
  {
   "cell_type": "markdown",
   "id": "13dd4c9c-731d-4789-b7aa-cb03e0f5e2e9",
   "metadata": {},
   "source": [
    "### Packages and functions"
   ]
  },
  {
   "cell_type": "code",
   "execution_count": null,
   "id": "7038b70e-5007-4cb2-b8f2-7cda2347f47b",
   "metadata": {},
   "outputs": [],
   "source": [
    "# Importing a package\n",
    "import mne\n",
    "import mne_nirs"
   ]
  },
  {
   "cell_type": "code",
   "execution_count": null,
   "id": "e9216f3d-3b16-4376-be3a-0c76e004321b",
   "metadata": {},
   "outputs": [],
   "source": [
    "# Other ways to import a package\n",
    "import numpy as np"
   ]
  },
  {
   "cell_type": "code",
   "execution_count": null,
   "id": "139b3dfa-d7ff-40df-a350-ff474f05e122",
   "metadata": {},
   "outputs": [],
   "source": [
    "# Import just a single function from a package\n",
    "from itertools import compress"
   ]
  },
  {
   "cell_type": "code",
   "execution_count": null,
   "id": "be550840-e77b-471a-b578-d16f8c28a1be",
   "metadata": {},
   "outputs": [],
   "source": [
    "# Running a function\n",
    "np.zeros(4)"
   ]
  },
  {
   "cell_type": "code",
   "execution_count": null,
   "id": "cc1fa1ad-23d8-41ec-bacb-9e37a8b65bdf",
   "metadata": {},
   "outputs": [],
   "source": [
    "# Set defaults using a function\n",
    "mne.viz.set_3d_backend(\"notebook\")"
   ]
  },
  {
   "cell_type": "markdown",
   "id": "ec6b9946-45a5-42ba-aa44-e0471414e727",
   "metadata": {},
   "source": [
    "## How to load NIRx data"
   ]
  },
  {
   "cell_type": "code",
   "execution_count": null,
   "id": "2daa53a7-eb4c-4325-bdd8-3315ea108584",
   "metadata": {},
   "outputs": [],
   "source": [
    "# Import required libraries\n",
    "import os\n",
    "import matplotlib.pyplot as plt"
   ]
  },
  {
   "cell_type": "code",
   "execution_count": null,
   "id": "63c270ef-771f-4f26-b510-2d3556491291",
   "metadata": {},
   "outputs": [],
   "source": [
    "# Download example data and report the path to data\n",
    "fnirs_data_folder = mne.datasets.fnirs_motor.data_path()\n",
    "fnirs_data_folder"
   ]
  },
  {
   "cell_type": "code",
   "execution_count": null,
   "id": "49733d58-4e60-4504-946c-11471f7e87b2",
   "metadata": {},
   "outputs": [],
   "source": [
    "# Get path for just the first participant\n",
    "fname = '/home/mne_user/mne_data/MNE-fNIRS-motor-data/Participant-1'"
   ]
  },
  {
   "cell_type": "code",
   "execution_count": null,
   "id": "6fff71e7-91ed-4d97-80c3-23210e30763c",
   "metadata": {},
   "outputs": [],
   "source": [
    "# Load the NIRx data\n",
    "raw_intensity = mne.io.read_raw_nirx(fname, verbose=True, preload=True)"
   ]
  },
  {
   "cell_type": "code",
   "execution_count": null,
   "id": "f9a21ee4-db11-4e12-93d6-8ed342d7ea42",
   "metadata": {},
   "outputs": [],
   "source": [
    "raw_intensity"
   ]
  },
  {
   "cell_type": "markdown",
   "id": "f3b271b6-4482-4005-b293-5d277c438074",
   "metadata": {},
   "source": [
    "## How to view your data"
   ]
  },
  {
   "cell_type": "code",
   "execution_count": null,
   "id": "56e9be76-1b49-45f3-b3f4-6d0f6b54877f",
   "metadata": {},
   "outputs": [],
   "source": [
    "raw_intensity.plot_sensors();"
   ]
  },
  {
   "cell_type": "code",
   "execution_count": null,
   "id": "3c68cc65-5bc7-4826-9661-db10d792681b",
   "metadata": {},
   "outputs": [],
   "source": [
    "events, event_dict = mne.events_from_annotations(raw_intensity, verbose=False)"
   ]
  },
  {
   "cell_type": "code",
   "execution_count": null,
   "id": "f280ec3c-7b36-436e-9681-d6890073b11b",
   "metadata": {},
   "outputs": [],
   "source": [
    "event_dict = {'Control': 1, 'Tapping/Left': 4, 'Tapping/Right': 3, 'ExperimentEnds': 2}"
   ]
  },
  {
   "cell_type": "code",
   "execution_count": null,
   "id": "b9166571-a4e1-420d-94b2-1a8abb131961",
   "metadata": {},
   "outputs": [],
   "source": [
    "plt.rcParams[\"figure.figsize\"] = (16, 6) # (w, h)\n",
    "mne.viz.plot_events(events, event_id=event_dict, sfreq=raw_intensity.info['sfreq']);"
   ]
  },
  {
   "cell_type": "markdown",
   "id": "b0622349-2f46-41fe-80aa-bb9e35ecbf00",
   "metadata": {},
   "source": [
    "## Alternative loading of data"
   ]
  },
  {
   "cell_type": "code",
   "execution_count": null,
   "id": "59a3d03a-7991-434e-ae8b-0e3fe7025a69",
   "metadata": {},
   "outputs": [],
   "source": [
    "# NIRSport2 can export as SNIRF which can be read using\n",
    "# Example of what an error looks like\n",
    "\n",
    "# mne.io.read_raw_snirf(\"fake+path\")"
   ]
  },
  {
   "cell_type": "code",
   "execution_count": null,
   "id": "554129fa-8544-4140-8e46-e0340e49335a",
   "metadata": {},
   "outputs": [],
   "source": [
    "# Or the best option is to use MNE-BIDS if your data is formatted correctly\n",
    "from mne_bids import BIDSPath, read_raw_bids\n",
    "from mne_nirs.datasets import fnirs_motor_group\n",
    "\n",
    "bids_path = BIDSPath(subject=\"01\", task=\"tapping\",\n",
    "                     root=fnirs_motor_group.data_path(),\n",
    "                     datatype=\"nirs\", suffix=\"nirs\", extension=\".snirf\")\n",
    "\n",
    "raw_intensity = read_raw_bids(bids_path=bids_path, verbose=False)"
   ]
  },
  {
   "cell_type": "code",
   "execution_count": null,
   "id": "3e78ffed",
   "metadata": {},
   "outputs": [],
   "source": [
    "plt.rcParams[\"figure.figsize\"] = (16, 10) # (w, h)\n",
    "raw_intensity.plot(duration=300, n_channels=len(raw_intensity.ch_names));"
   ]
  },
  {
   "cell_type": "markdown",
   "id": "272029bb-31a0-4731-ae06-60b2d132bd54",
   "metadata": {},
   "source": [
    "## How to manipulate data"
   ]
  },
  {
   "cell_type": "code",
   "execution_count": null,
   "id": "60073e76-36d8-49b9-9ab9-21a4c3c0d45e",
   "metadata": {},
   "outputs": [],
   "source": [
    "# Working on a copy\n",
    "raw = raw_intensity.copy()"
   ]
  },
  {
   "cell_type": "code",
   "execution_count": null,
   "id": "878527ce-c554-4374-b82d-eb95e94e9c62",
   "metadata": {},
   "outputs": [],
   "source": [
    "raw"
   ]
  },
  {
   "cell_type": "code",
   "execution_count": null,
   "id": "02f81200-7400-4b60-a3b1-8846859cf03e",
   "metadata": {},
   "outputs": [],
   "source": [
    "raw.resample(2)"
   ]
  },
  {
   "cell_type": "code",
   "execution_count": null,
   "id": "70919bcc-3661-44c4-b124-74c46ed4a80f",
   "metadata": {},
   "outputs": [],
   "source": [
    "raw"
   ]
  },
  {
   "cell_type": "code",
   "execution_count": null,
   "id": "cd860f56-2595-4841-af68-4621cae8e5f6",
   "metadata": {},
   "outputs": [],
   "source": [
    "raw_intensity"
   ]
  },
  {
   "cell_type": "code",
   "execution_count": null,
   "id": "856346ec",
   "metadata": {},
   "outputs": [],
   "source": [
    "raw_intensity.annotations"
   ]
  },
  {
   "cell_type": "code",
   "execution_count": null,
   "id": "65cda5b7",
   "metadata": {},
   "outputs": [],
   "source": [
    "raw_intensity.annotations.to_data_frame()"
   ]
  },
  {
   "cell_type": "code",
   "execution_count": null,
   "id": "85324bdf",
   "metadata": {},
   "outputs": [],
   "source": [
    "raw_intensity.annotations.to_data_frame().plot.scatter(x='onset',  y='description')"
   ]
  },
  {
   "cell_type": "markdown",
   "id": "55b12b35-0d06-4635-9271-3e2b591768b2",
   "metadata": {},
   "source": [
    "### Picking channels"
   ]
  },
  {
   "cell_type": "code",
   "execution_count": null,
   "id": "94e081a1-df48-4849-939d-143234e1c455",
   "metadata": {},
   "outputs": [],
   "source": [
    "raw.copy().pick(picks=[0, 1, 2, 3])"
   ]
  },
  {
   "cell_type": "code",
   "execution_count": null,
   "id": "06d16c86-2069-408d-baaa-059cb3203233",
   "metadata": {},
   "outputs": [],
   "source": [
    "plt.rcParams[\"figure.figsize\"] = (6, 6) # (w, h)\n",
    "raw.copy().pick(picks=[0, 1, 2, 3]).plot_sensors();"
   ]
  },
  {
   "cell_type": "code",
   "execution_count": null,
   "id": "f27ca99b-31f9-4920-a60e-f3dc77b601e3",
   "metadata": {},
   "outputs": [],
   "source": [
    "plt.rcParams[\"figure.figsize\"] = (16, 6) # (w, h)\n",
    "raw.copy().pick(picks=[0, 1, 2, 3]).plot(duration=300);"
   ]
  },
  {
   "cell_type": "code",
   "execution_count": null,
   "id": "aab22061-a233-495e-8b70-fd849b62097b",
   "metadata": {},
   "outputs": [],
   "source": [
    "raw.copy().pick(picks=[10]).plot(duration=300);"
   ]
  },
  {
   "cell_type": "code",
   "execution_count": null,
   "id": "31a1d55a-30b1-4285-936d-02b5d723bb2e",
   "metadata": {},
   "outputs": [],
   "source": [
    "raw.copy().pick(picks=range(13, 19)).plot(duration=300);"
   ]
  },
  {
   "cell_type": "markdown",
   "id": "f847aa2d-b173-4585-8c5d-1335937a9861",
   "metadata": {},
   "source": [
    "### Cropping data"
   ]
  },
  {
   "cell_type": "code",
   "execution_count": null,
   "id": "b55da6f6-02d7-4233-8af8-8f3f9dcc4483",
   "metadata": {},
   "outputs": [],
   "source": [
    "raw.copy().crop(tmin=50, tmax=100).plot(duration=300);"
   ]
  },
  {
   "cell_type": "code",
   "execution_count": null,
   "id": "22876348-cd66-458d-a480-25a0811be8f3",
   "metadata": {},
   "outputs": [],
   "source": [
    "raw.copy().pick(range(4)).crop(tmin=50, tmax=100).plot(duration=300);"
   ]
  },
  {
   "cell_type": "markdown",
   "id": "b4d1e218-29e6-4e73-af5a-514cb46c45e0",
   "metadata": {},
   "source": [
    "## Signal Processing"
   ]
  },
  {
   "cell_type": "code",
   "execution_count": null,
   "id": "dda0154c-3223-4a3e-9a95-449097930c33",
   "metadata": {},
   "outputs": [],
   "source": [
    "raw_od = mne.preprocessing.nirs.optical_density(raw_intensity)"
   ]
  },
  {
   "cell_type": "code",
   "execution_count": null,
   "id": "317d53f0-5190-4b7e-b6a3-738f08d3f251",
   "metadata": {},
   "outputs": [],
   "source": [
    "raw_od"
   ]
  },
  {
   "cell_type": "code",
   "execution_count": null,
   "id": "bf70381c-cb78-430a-8a88-778621b6ae98",
   "metadata": {},
   "outputs": [],
   "source": [
    "raw_od.copy().pick(range(6)).ch_names"
   ]
  },
  {
   "cell_type": "code",
   "execution_count": null,
   "id": "bcf319d4-1ad9-4a7b-9d44-0636764610b4",
   "metadata": {},
   "outputs": [],
   "source": [
    "# Import required functions\n",
    "from mne.preprocessing.nirs import beer_lambert_law, optical_density"
   ]
  },
  {
   "cell_type": "code",
   "execution_count": null,
   "id": "671ddcdd-4588-4c0f-8fb4-f5cf4611ee88",
   "metadata": {},
   "outputs": [],
   "source": [
    "raw_haemo = beer_lambert_law(raw_od)"
   ]
  },
  {
   "cell_type": "code",
   "execution_count": null,
   "id": "93a029f5-2d7f-4928-a6b0-d434f8bcc45e",
   "metadata": {},
   "outputs": [],
   "source": [
    "raw_haemo"
   ]
  },
  {
   "cell_type": "code",
   "execution_count": null,
   "id": "c597ece0-9fa1-4e9c-979f-39d5e679fbb3",
   "metadata": {},
   "outputs": [],
   "source": [
    "raw_haemo.copy().pick(range(6)).ch_names"
   ]
  },
  {
   "cell_type": "code",
   "execution_count": null,
   "id": "8afe2f41-7aa9-406d-ba31-8458dc72f3bf",
   "metadata": {},
   "outputs": [],
   "source": [
    "# We can now pick based on type\n",
    "raw_haemo.copy().pick(\"hbo\").ch_names"
   ]
  },
  {
   "cell_type": "code",
   "execution_count": null,
   "id": "d9d9c622-ee4b-4cc0-96fa-e5a577be96a8",
   "metadata": {},
   "outputs": [],
   "source": [
    "plt.rcParams[\"figure.figsize\"] = (16, 10) # (w, h)\n",
    "raw_haemo.plot(duration=300, n_channels=len(raw_haemo.ch_names), clipping=None);"
   ]
  },
  {
   "cell_type": "code",
   "execution_count": null,
   "id": "eb121c14-3220-42d8-82cc-6b11e8275dbe",
   "metadata": {},
   "outputs": [],
   "source": [
    "plt.rcParams[\"figure.figsize\"] = (16, 8) # (w, h)\n",
    "raw_haemo.copy().pick(\"hbo\").plot(duration=300, n_channels=len(raw_haemo.ch_names), clipping=None);"
   ]
  },
  {
   "cell_type": "code",
   "execution_count": null,
   "id": "268456a2",
   "metadata": {},
   "outputs": [],
   "source": [
    "# Changing the scale\n",
    "raw_haemo.copy().pick(\"hbo\").plot(duration=300, n_channels=len(raw_haemo.ch_names), clipping=None, scalings=dict(hbo=5e-5));"
   ]
  },
  {
   "cell_type": "markdown",
   "id": "62f95525",
   "metadata": {},
   "source": [
    "## Data Quality"
   ]
  },
  {
   "cell_type": "code",
   "execution_count": null,
   "id": "2b61332b",
   "metadata": {},
   "outputs": [],
   "source": [
    "sci = mne.preprocessing.nirs.scalp_coupling_index(raw_od)\n",
    "sci"
   ]
  },
  {
   "cell_type": "code",
   "execution_count": null,
   "id": "23910bad",
   "metadata": {},
   "outputs": [],
   "source": [
    "fig, ax = plt.subplots()\n",
    "ax.hist(sci)\n",
    "ax.set(xlabel='Scalp Coupling Index', ylabel='Count', xlim=[0, 1])"
   ]
  },
  {
   "cell_type": "code",
   "execution_count": null,
   "id": "46cdf7b4",
   "metadata": {},
   "outputs": [],
   "source": [
    "# Manual setting of bad channels\n",
    "raw_od.info['bads'] = ['S1_D9 760', 'S1_D9 850']"
   ]
  },
  {
   "cell_type": "code",
   "execution_count": null,
   "id": "5df8316b",
   "metadata": {},
   "outputs": [],
   "source": [
    "raw_od"
   ]
  },
  {
   "cell_type": "code",
   "execution_count": null,
   "id": "64b5b722",
   "metadata": {
    "scrolled": false
   },
   "outputs": [],
   "source": [
    "raw_od.copy().pick(range(20)).plot(duration=300, n_channels=len(raw_od.ch_names), clipping=None);"
   ]
  },
  {
   "cell_type": "code",
   "execution_count": null,
   "id": "4592ca0f",
   "metadata": {},
   "outputs": [],
   "source": [
    "plt.rcParams[\"figure.figsize\"] = (6, 6) # (w, h)\n",
    "raw_od.plot_sensors();"
   ]
  },
  {
   "cell_type": "code",
   "execution_count": null,
   "id": "f462fd3e",
   "metadata": {},
   "outputs": [],
   "source": [
    "# Run sci just on first 30 seconds of data\n",
    "sci = mne.preprocessing.nirs.scalp_coupling_index(raw_od.copy().crop(tmax=30))"
   ]
  },
  {
   "cell_type": "code",
   "execution_count": null,
   "id": "31b12cbf",
   "metadata": {},
   "outputs": [],
   "source": [
    "from mne_nirs.preprocessing import peak_power, scalp_coupling_index_windowed\n",
    "from mne_nirs.visualisation import plot_timechannel_quality_metric\n",
    "\n",
    "_, scores, times = scalp_coupling_index_windowed(raw_od, time_window=60)\n",
    "plot_timechannel_quality_metric(raw_od, scores, times, threshold=0.7,\n",
    "                                title=\"Scalp Coupling Index \"\n",
    "                                      \"Quality Evaluation\");"
   ]
  },
  {
   "cell_type": "markdown",
   "id": "4ff20454",
   "metadata": {},
   "source": [
    "## Waveform analysis"
   ]
  },
  {
   "cell_type": "code",
   "execution_count": null,
   "id": "1cd542cb",
   "metadata": {},
   "outputs": [],
   "source": [
    "raw_intensity = read_raw_bids(bids_path=bids_path, verbose=False)\n",
    "\n",
    "raw_od = mne.preprocessing.nirs.optical_density(raw_intensity)\n",
    "raw_haemo = mne.preprocessing.nirs.beer_lambert_law(raw_od)"
   ]
  },
  {
   "cell_type": "code",
   "execution_count": null,
   "id": "4091e3da",
   "metadata": {},
   "outputs": [],
   "source": [
    "raw_haemo = mne_nirs.channels.get_long_channels(raw_haemo)"
   ]
  },
  {
   "cell_type": "code",
   "execution_count": null,
   "id": "44642c0b",
   "metadata": {},
   "outputs": [],
   "source": [
    "raw_haemo.plot_psd(average=True);"
   ]
  },
  {
   "cell_type": "code",
   "execution_count": null,
   "id": "d6306c86",
   "metadata": {},
   "outputs": [],
   "source": [
    "plt.rcParams[\"figure.figsize\"] = (16, 14) # (w, h)\n",
    "raw_haemo.plot_psd(average=False);"
   ]
  },
  {
   "cell_type": "code",
   "execution_count": null,
   "id": "973df6e6",
   "metadata": {},
   "outputs": [],
   "source": [
    "raw_haemo = raw_haemo.filter(0.05, 0.7, h_trans_bandwidth=0.2, l_trans_bandwidth=0.02)"
   ]
  },
  {
   "cell_type": "code",
   "execution_count": null,
   "id": "9e241ace",
   "metadata": {},
   "outputs": [],
   "source": []
  },
  {
   "cell_type": "code",
   "execution_count": null,
   "id": "59fd66ac",
   "metadata": {},
   "outputs": [],
   "source": [
    "raw_haemo.plot_psd(average=True);"
   ]
  },
  {
   "cell_type": "code",
   "execution_count": null,
   "id": "f6ab06a9",
   "metadata": {},
   "outputs": [],
   "source": [
    "events, event_id = mne.events_from_annotations(raw_haemo)"
   ]
  },
  {
   "cell_type": "code",
   "execution_count": null,
   "id": "8f7059a2",
   "metadata": {},
   "outputs": [],
   "source": [
    "plt.rcParams[\"figure.figsize\"] = (16, 6) # (w, h)\n",
    "\n",
    "\n",
    "fig = mne.viz.plot_events(events, event_id=event_id, sfreq=raw_haemo.info['sfreq'])\n",
    "fig.subplots_adjust(right=0.7)  # make room for the legend"
   ]
  },
  {
   "cell_type": "code",
   "execution_count": null,
   "id": "21125bd8",
   "metadata": {},
   "outputs": [],
   "source": [
    "reject_criteria = dict(hbo=80e-6)\n",
    "tmin, tmax = -5, 15\n",
    "\n",
    "epochs = mne.Epochs(raw_haemo, events, event_id=event_id,\n",
    "                    tmin=tmin, tmax=tmax, preload=True,\n",
    "                    reject=reject_criteria, reject_by_annotation=True)"
   ]
  },
  {
   "cell_type": "code",
   "execution_count": null,
   "id": "5d899e50",
   "metadata": {},
   "outputs": [],
   "source": [
    "plt.rcParams[\"figure.figsize\"] = (16, 8) # (w, h)\n",
    "epochs.plot_drop_log();"
   ]
  },
  {
   "cell_type": "code",
   "execution_count": null,
   "id": "eb93f18d",
   "metadata": {},
   "outputs": [],
   "source": [
    "epochs"
   ]
  },
  {
   "cell_type": "code",
   "execution_count": null,
   "id": "cad0202c",
   "metadata": {},
   "outputs": [],
   "source": [
    "epochs['Tapping']"
   ]
  },
  {
   "cell_type": "code",
   "execution_count": null,
   "id": "4e59c73e",
   "metadata": {},
   "outputs": [],
   "source": [
    "epochs['Tapping/Right']"
   ]
  },
  {
   "cell_type": "code",
   "execution_count": null,
   "id": "0d65930b",
   "metadata": {},
   "outputs": [],
   "source": [
    "epochs['Tapping/Right'].average()"
   ]
  },
  {
   "cell_type": "code",
   "execution_count": null,
   "id": "8558f6ea",
   "metadata": {},
   "outputs": [],
   "source": [
    "epochs['Tapping/Right'].average().plot();"
   ]
  },
  {
   "cell_type": "code",
   "execution_count": null,
   "id": "b5f16a02",
   "metadata": {},
   "outputs": [],
   "source": [
    "evoked = epochs['Tapping/Right'].average()"
   ]
  },
  {
   "cell_type": "code",
   "execution_count": null,
   "id": "df1b34f0",
   "metadata": {},
   "outputs": [],
   "source": [
    "evoked.plot()"
   ]
  },
  {
   "cell_type": "code",
   "execution_count": null,
   "id": "f1800335",
   "metadata": {},
   "outputs": [],
   "source": [
    "evoked.pick(picks='hbo').plot_joint(times=[-2, 0, 3, 6, 9, 12], topomap_args=dict(extrapolate='local'));"
   ]
  },
  {
   "cell_type": "code",
   "execution_count": null,
   "id": "0441efc9",
   "metadata": {},
   "outputs": [],
   "source": [
    "evoked_dict = {'Tapping/HbO': epochs['Tapping'].average(picks='hbo').rename_channels(lambda x: x[:-4])}\n",
    "\n",
    "mne.viz.plot_compare_evokeds(evoked_dict, combine=\"mean\")"
   ]
  },
  {
   "cell_type": "code",
   "execution_count": null,
   "id": "e6583bc7",
   "metadata": {},
   "outputs": [],
   "source": [
    "evoked_dict"
   ]
  },
  {
   "cell_type": "code",
   "execution_count": null,
   "id": "0dcc878c",
   "metadata": {},
   "outputs": [],
   "source": [
    "evoked_dict = {'Tapping/HbO': epochs['Tapping'].average(picks='hbo'),\n",
    "               'Tapping/HbR': epochs['Tapping'].average(picks='hbr'),\n",
    "               'Control/HbO': epochs['Control'].average(picks='hbo'),\n",
    "               'Control/HbR': epochs['Control'].average(picks='hbr')}\n",
    "evoked_dict"
   ]
  },
  {
   "cell_type": "code",
   "execution_count": null,
   "id": "e6b4d4e6",
   "metadata": {},
   "outputs": [],
   "source": [
    "for condition in evoked_dict:\n",
    "    evoked_dict[condition].rename_channels(lambda x: x[:-4])\n",
    "\n",
    "color_dict = dict(HbO='r', HbR='b')\n",
    "styles_dict = dict(Control=dict(linestyle='dashed'))\n",
    "\n",
    "mne.viz.plot_compare_evokeds(evoked_dict, combine=\"mean\", colors=color_dict, styles=styles_dict)"
   ]
  },
  {
   "cell_type": "code",
   "execution_count": null,
   "id": "01aba597",
   "metadata": {},
   "outputs": [],
   "source": [
    "plt.rcParams[\"figure.figsize\"] = (10, 8) # (w, h)\n",
    "epochs['Tapping'].copy().pick(\"hbo\").plot_image(combine='mean', vmin=-30, vmax=30,\n",
    "                                                ts_args=dict(ylim=dict(hbo=[-15, 15],\n",
    "                                                                       hbr=[-15, 15])))"
   ]
  },
  {
   "cell_type": "code",
   "execution_count": null,
   "id": "82a58ed9",
   "metadata": {},
   "outputs": [],
   "source": [
    "epochs[\"Tapping\"]"
   ]
  },
  {
   "cell_type": "code",
   "execution_count": null,
   "id": "f5ec1a3f",
   "metadata": {},
   "outputs": [],
   "source": [
    "import pandas as pd\n",
    "\n",
    "results = pd.DataFrame()\n",
    "\n",
    "for epoch in epochs[\"Tapping\"].copy().pick(\"hbo\").crop(tmin=4, tmax=6):\n",
    "    val = epoch.mean()\n",
    "    results = results.append({\"Value\": val * 1e6, \"Condition\": \"Tapping\"}, ignore_index=True)"
   ]
  },
  {
   "cell_type": "code",
   "execution_count": null,
   "id": "f7d46242",
   "metadata": {},
   "outputs": [],
   "source": [
    "results.tail()"
   ]
  },
  {
   "cell_type": "code",
   "execution_count": null,
   "id": "45a59a6f",
   "metadata": {},
   "outputs": [],
   "source": [
    "for epoch in epochs[\"Control\"].copy().pick(\"hbo\").crop(tmin=4, tmax=6):\n",
    "    val = epoch.mean()\n",
    "    results = results.append({\"Value\": val * 1e6, \"Condition\": \"Control\"}, ignore_index=True)"
   ]
  },
  {
   "cell_type": "code",
   "execution_count": null,
   "id": "b4f398be",
   "metadata": {},
   "outputs": [],
   "source": [
    "results.boxplot(by=['Condition'], grid=False)"
   ]
  },
  {
   "cell_type": "code",
   "execution_count": null,
   "id": "266125f5",
   "metadata": {},
   "outputs": [],
   "source": [
    "results[\"ID\"] = \"P01\"\n",
    "results.to_csv(\"WaveformResults.csv\")"
   ]
  }
 ],
 "metadata": {
  "kernelspec": {
   "display_name": "Python 3",
   "language": "python",
   "name": "python3"
  },
  "language_info": {
   "codemirror_mode": {
    "name": "ipython",
    "version": 3
   },
   "file_extension": ".py",
   "mimetype": "text/x-python",
   "name": "python",
   "nbconvert_exporter": "python",
   "pygments_lexer": "ipython3",
   "version": "3.8.0"
  }
 },
 "nbformat": 4,
 "nbformat_minor": 5
}
