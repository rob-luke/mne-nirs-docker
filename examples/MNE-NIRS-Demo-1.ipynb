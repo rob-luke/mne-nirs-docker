{
 "cells": [
  {
   "cell_type": "markdown",
   "id": "8d0517ec-09e4-4b36-bd1c-17f136886e3e",
   "metadata": {},
   "source": [
    "# Introduction to MNE-NIRS and MNE-Python "
   ]
  },
  {
   "cell_type": "markdown",
   "id": "0b6f35df-da09-4e49-9480-f6a42280bae5",
   "metadata": {},
   "source": [
    "Useful links:\n",
    "\n",
    "Documentation:\n",
    "* MNE-Python: https://mne.tools\n",
    "* MNE-NIRS: https://mne.tools/mne-nirs\n",
    "* Nilearn: https://nilearn.github.io\n",
    "\n",
    "Code:\n",
    "* MNE-Python: https://github.com/mne-tools/mne-python\n",
    "* MNE-NIRS: https://github.com/mne-tools/mne-nirs\n",
    "* Nilearn: https://github.com/nilearn/nilearn\n",
    "\n",
    "Community:\n",
    "* User forum: https://mne.discourse.group/\n",
    "* Chat room: https://discord.com/invite/rKfvxTuATa\n",
    "\n",
    "Tutorials:\n",
    "* All fNIRS tutorials: https://mne.tools/mne-nirs/master/auto_examples/index.html"
   ]
  },
  {
   "cell_type": "markdown",
   "id": "46cffd28-447d-42b4-9f99-aacb068d02ef",
   "metadata": {},
   "source": [
    "## Outline\n",
    "\n",
    "This tutorial will cover the following:\n",
    "\n",
    "* What is MNE and MNE-NIRS?\n",
    "* Where can I get help using MNE?\n",
    "* The basics\n",
    "  * Python basics\n",
    "  * How to load NIRx data\n",
    "  * How to view raw data\n",
    "  * How to manipulate data\n",
    "    * How to pick channels\n",
    "    * How to crop data\n",
    "* Basic signal processing\n",
    "  * Conversion to haemoglobin\n",
    "  * Data quality metrics\n",
    "* Waveform analysis\n",
    "* Summary statistics\n",
    "\n",
    "### Webinar 2: Advanced topics\n",
    "What should we discuss?\n",
    "* GLM analysis\n",
    "* Group level waveform analysis\n",
    "* Group level GLM analysis\n",
    "* Cortical projection\n",
    "* ...\n",
    "* What do you want to see?"
   ]
  },
  {
   "cell_type": "markdown",
   "id": "b2e1ac11-984a-4b4c-9dee-92cef4912f52",
   "metadata": {},
   "source": [
    "## Python basics"
   ]
  },
  {
   "cell_type": "markdown",
   "id": "9c158e6d-9642-4044-abf1-528e1e0114e2",
   "metadata": {},
   "source": [
    "### Packages and functions"
   ]
  },
  {
   "cell_type": "code",
   "execution_count": null,
   "id": "da6aebfd-4fe3-49df-b2a6-0af6a3c5eead",
   "metadata": {},
   "outputs": [],
   "source": [
    "# Importing a package\n",
    "import mne\n",
    "import mne_nirs"
   ]
  },
  {
   "cell_type": "code",
   "execution_count": null,
   "id": "d4674402-b9ae-410d-8b63-5291610b6547",
   "metadata": {},
   "outputs": [],
   "source": [
    "# Other ways to import a package\n",
    "import numpy as np"
   ]
  },
  {
   "cell_type": "code",
   "execution_count": null,
   "id": "f0056431-ad57-4833-a860-d91c519f519e",
   "metadata": {},
   "outputs": [],
   "source": [
    "# Import just a single function from a package\n",
    "from itertools import compress"
   ]
  },
  {
   "cell_type": "code",
   "execution_count": null,
   "id": "b9edad52-c815-4a13-82eb-861bef742582",
   "metadata": {},
   "outputs": [],
   "source": [
    "# Running a function\n",
    "np.zeros(4)"
   ]
  },
  {
   "cell_type": "code",
   "execution_count": null,
   "id": "3229af5b-5946-49b3-a9d8-d68fbf872981",
   "metadata": {},
   "outputs": [],
   "source": [
    "# Set defaults using a function\n",
    "mne.viz.set_3d_backend(\"notebook\")"
   ]
  },
  {
   "cell_type": "code",
   "execution_count": null,
   "id": "b4b44d7e-00a3-4113-94b8-73dba78dc9d3",
   "metadata": {},
   "outputs": [],
   "source": [
    "%matplotlib inline"
   ]
  },
  {
   "cell_type": "markdown",
   "id": "d7354d44-f269-4628-bfea-d8257cf6e744",
   "metadata": {},
   "source": [
    "## How to load NIRx data"
   ]
  },
  {
   "cell_type": "code",
   "execution_count": null,
   "id": "00ef2ece-862e-432b-93e3-e7709116391a",
   "metadata": {},
   "outputs": [],
   "source": [
    "# Import required libraries\n",
    "import os\n",
    "import matplotlib.pyplot as plt"
   ]
  },
  {
   "cell_type": "code",
   "execution_count": null,
   "id": "52ad8605-a9ce-47e9-9b96-31caefdacb2d",
   "metadata": {},
   "outputs": [],
   "source": [
    "# Download example data and report the path to data\n",
    "fnirs_data_folder = mne.datasets.fnirs_motor.data_path()\n",
    "fnirs_data_folder"
   ]
  },
  {
   "cell_type": "code",
   "execution_count": null,
   "id": "435f001e-0c78-40bf-a9cf-0358d600a87c",
   "metadata": {},
   "outputs": [],
   "source": [
    "# Get path for just the first participant\n",
    "fname = f'{fnirs_data_folder}/Participant-1'"
   ]
  },
  {
   "cell_type": "code",
   "execution_count": null,
   "id": "c6163f96-2374-443b-9c5b-d5e0247185d5",
   "metadata": {},
   "outputs": [],
   "source": [
    "# Load the NIRx data\n",
    "raw_intensity = mne.io.read_raw_nirx(fname, verbose=True, preload=True)"
   ]
  },
  {
   "cell_type": "code",
   "execution_count": null,
   "id": "8c43f9e7-3101-42cf-a6bd-d1ffebc7154b",
   "metadata": {},
   "outputs": [],
   "source": [
    "raw_intensity"
   ]
  },
  {
   "cell_type": "markdown",
   "id": "50a343b3-cc07-4d70-8935-7043792707c8",
   "metadata": {},
   "source": [
    "## How to view your data"
   ]
  },
  {
   "cell_type": "code",
   "execution_count": null,
   "id": "9d9b86a6-79e8-4f88-8dc3-5175fc06413f",
   "metadata": {},
   "outputs": [],
   "source": [
    "raw_intensity.plot_sensors();"
   ]
  },
  {
   "cell_type": "code",
   "execution_count": null,
   "id": "cbf446a1-0e4b-4447-941f-8ed69c43a0ee",
   "metadata": {},
   "outputs": [],
   "source": [
    "events, event_dict = mne.events_from_annotations(raw_intensity, verbose=False)"
   ]
  },
  {
   "cell_type": "code",
   "execution_count": null,
   "id": "83f47350-99f8-4d8e-b18a-d32912ef6c89",
   "metadata": {},
   "outputs": [],
   "source": [
    "event_dict = {'Control': 1, 'Tapping/Left': 4, 'Tapping/Right': 3, 'ExperimentEnds': 2}"
   ]
  },
  {
   "cell_type": "code",
   "execution_count": null,
   "id": "157ee820-0553-42bd-87f7-7c96a051c857",
   "metadata": {},
   "outputs": [],
   "source": [
    "plt.rcParams[\"figure.figsize\"] = (10, 6) # (w, h)\n",
    "mne.viz.plot_events(events, event_id=event_dict, sfreq=raw_intensity.info['sfreq']);"
   ]
  },
  {
   "cell_type": "markdown",
   "id": "ddfd20f6-5132-41d5-bcb3-6a8cd4733cb9",
   "metadata": {},
   "source": [
    "## Alternative loading of data"
   ]
  },
  {
   "cell_type": "code",
   "execution_count": null,
   "id": "4bdcd14b-ea84-4cf6-b94f-f6d7356cd858",
   "metadata": {},
   "outputs": [],
   "source": [
    "# NIRSport2 can export as SNIRF which can be read using\n",
    "# Example of what an error looks like\n",
    "\n",
    "# mne.io.read_raw_snirf(\"fake+path\")"
   ]
  },
  {
   "cell_type": "code",
   "execution_count": null,
   "id": "ae66c958-6eca-41cc-9461-4617210573b9",
   "metadata": {},
   "outputs": [],
   "source": [
    "# Or the best option is to use MNE-BIDS if your data is formatted correctly\n",
    "from mne_bids import BIDSPath, read_raw_bids\n",
    "from mne_nirs.datasets import fnirs_motor_group\n",
    "\n",
    "bids_path = BIDSPath(subject=\"01\", task=\"tapping\",\n",
    "                     root=fnirs_motor_group.data_path(),\n",
    "                     datatype=\"nirs\", suffix=\"nirs\", extension=\".snirf\")\n",
    "\n",
    "raw_intensity = read_raw_bids(bids_path=bids_path, verbose=False)"
   ]
  },
  {
   "cell_type": "code",
   "execution_count": null,
   "id": "5d7f91f5-7af4-417e-907e-5c76e33441e1",
   "metadata": {},
   "outputs": [],
   "source": [
    "plt.rcParams[\"figure.figsize\"] = (10, 10) # (w, h)\n",
    "raw_intensity.plot(duration=300, n_channels=len(raw_intensity.ch_names));"
   ]
  },
  {
   "cell_type": "markdown",
   "id": "181943e2-ef40-49c7-bae9-a5a00cfa03cd",
   "metadata": {},
   "source": [
    "## Interactive figures (will not be used in introduction webinar)"
   ]
  },
  {
   "cell_type": "code",
   "execution_count": null,
   "id": "af742b99-8396-4995-9274-fe98e0090f71",
   "metadata": {},
   "outputs": [],
   "source": [
    "# Demonstrate interactive figures\n",
    "\n",
    "# %matplotlib qt\n",
    "# raw_intensity.plot(duration=300, n_channels=len(raw_intensity.ch_names));"
   ]
  },
  {
   "cell_type": "code",
   "execution_count": null,
   "id": "2a8f1064-fa45-45f0-917c-c307723f5fb3",
   "metadata": {},
   "outputs": [],
   "source": [
    "# Revert back for demo\n",
    "%matplotlib inline"
   ]
  },
  {
   "cell_type": "markdown",
   "id": "9c1a3a60-1e3a-4fd3-8de3-0840e3ea5533",
   "metadata": {},
   "source": [
    "## How to manipulate data"
   ]
  },
  {
   "cell_type": "code",
   "execution_count": null,
   "id": "b7f058d0-256d-42d1-ab68-b0f5ea61b67b",
   "metadata": {},
   "outputs": [],
   "source": [
    "# Working on a copy\n",
    "raw = raw_intensity.copy()"
   ]
  },
  {
   "cell_type": "code",
   "execution_count": null,
   "id": "dc47153e-bf7f-4698-b004-474bc3851f8c",
   "metadata": {},
   "outputs": [],
   "source": [
    "raw"
   ]
  },
  {
   "cell_type": "code",
   "execution_count": null,
   "id": "c0b76a7d-9b6e-4381-8105-ba250346cf3e",
   "metadata": {},
   "outputs": [],
   "source": [
    "raw.resample(2)"
   ]
  },
  {
   "cell_type": "code",
   "execution_count": null,
   "id": "65263c07-3b28-4aa2-b653-449429d65857",
   "metadata": {},
   "outputs": [],
   "source": [
    "raw"
   ]
  },
  {
   "cell_type": "code",
   "execution_count": null,
   "id": "787474f0-f39d-4576-b55f-12be508e46c4",
   "metadata": {},
   "outputs": [],
   "source": [
    "raw_intensity"
   ]
  },
  {
   "cell_type": "code",
   "execution_count": null,
   "id": "bfa894ab-ec3c-4af1-9b3e-de4377edd3e6",
   "metadata": {},
   "outputs": [],
   "source": [
    "raw_intensity.annotations"
   ]
  },
  {
   "cell_type": "code",
   "execution_count": null,
   "id": "605316e2-945f-4d10-806e-7e4d9fbd42ba",
   "metadata": {},
   "outputs": [],
   "source": [
    "raw_intensity.annotations.to_data_frame()"
   ]
  },
  {
   "cell_type": "code",
   "execution_count": null,
   "id": "11da5099-587a-4bb9-9813-1b54b24fc7a3",
   "metadata": {},
   "outputs": [],
   "source": [
    "raw_intensity.annotations.to_data_frame().plot.scatter(x='onset',  y='description')"
   ]
  },
  {
   "cell_type": "markdown",
   "id": "3bacbc6f-33f5-4f84-9cb1-fd4a67535f2a",
   "metadata": {},
   "source": [
    "### Picking channels"
   ]
  },
  {
   "cell_type": "code",
   "execution_count": null,
   "id": "e8d2c2fd-a7d6-432e-8f73-44d79deb9e3e",
   "metadata": {},
   "outputs": [],
   "source": [
    "raw.copy().pick(picks=[0, 1, 2, 3])"
   ]
  },
  {
   "cell_type": "code",
   "execution_count": null,
   "id": "83bc7597-46b6-40c1-8c3f-776165d9e4c9",
   "metadata": {},
   "outputs": [],
   "source": [
    "plt.rcParams[\"figure.figsize\"] = (6, 6) # (w, h)\n",
    "raw.copy().pick(picks=[0, 1, 2, 3]).plot_sensors();"
   ]
  },
  {
   "cell_type": "code",
   "execution_count": null,
   "id": "a1430869-5b43-4ac5-8c5b-0c16ba683c77",
   "metadata": {},
   "outputs": [],
   "source": [
    "plt.rcParams[\"figure.figsize\"] = (16, 6) # (w, h)\n",
    "raw.copy().pick(picks=[0, 1, 2, 3]).plot(duration=300);"
   ]
  },
  {
   "cell_type": "code",
   "execution_count": null,
   "id": "525f8fe2-2f59-4995-90d6-789f0f153e71",
   "metadata": {},
   "outputs": [],
   "source": [
    "raw.copy().pick(picks=[10]).plot(duration=300);"
   ]
  },
  {
   "cell_type": "code",
   "execution_count": null,
   "id": "082a94c5-a1ea-496f-bab6-2481cf3ff65c",
   "metadata": {},
   "outputs": [],
   "source": [
    "raw.copy().pick(picks=range(13, 19)).plot(duration=300);"
   ]
  },
  {
   "cell_type": "markdown",
   "id": "59136229-f787-4d0f-b3ea-2bdc028b85cc",
   "metadata": {},
   "source": [
    "### Cropping data"
   ]
  },
  {
   "cell_type": "code",
   "execution_count": null,
   "id": "2830942c-2e39-45ee-bd70-5c98a5605f16",
   "metadata": {},
   "outputs": [],
   "source": [
    "raw.copy().crop(tmin=200, tmax=800).plot(duration=30000);"
   ]
  },
  {
   "cell_type": "code",
   "execution_count": null,
   "id": "e1ef82c6-7c40-467e-8a55-c7059431facf",
   "metadata": {},
   "outputs": [],
   "source": [
    "raw.copy().pick(range(4)).crop(tmin=200, tmax=800).plot(duration=30000);"
   ]
  },
  {
   "cell_type": "markdown",
   "id": "f30ddfa9-f2b0-49bf-b2a1-41e9079a96bc",
   "metadata": {},
   "source": [
    "## Signal Processing"
   ]
  },
  {
   "cell_type": "code",
   "execution_count": null,
   "id": "7e9a526f-8dc2-43af-8249-3dc9f5e9c7b6",
   "metadata": {},
   "outputs": [],
   "source": [
    "raw_od = mne.preprocessing.nirs.optical_density(raw_intensity)"
   ]
  },
  {
   "cell_type": "code",
   "execution_count": null,
   "id": "7b82b1d8-e388-4fbd-9b20-96a0ea49ddd6",
   "metadata": {},
   "outputs": [],
   "source": [
    "raw_od"
   ]
  },
  {
   "cell_type": "code",
   "execution_count": null,
   "id": "16fcf941-426e-4388-8663-9d59aba6d1b3",
   "metadata": {},
   "outputs": [],
   "source": [
    "raw_od.copy().pick(range(6)).ch_names"
   ]
  },
  {
   "cell_type": "code",
   "execution_count": null,
   "id": "04db07fd-2452-43c8-b6aa-4229ebe9828f",
   "metadata": {},
   "outputs": [],
   "source": [
    "# Import required functions\n",
    "from mne.preprocessing.nirs import beer_lambert_law, optical_density"
   ]
  },
  {
   "cell_type": "code",
   "execution_count": null,
   "id": "653cb331-c86d-4a44-baab-a2c2d0d0a269",
   "metadata": {},
   "outputs": [],
   "source": [
    "raw_haemo = beer_lambert_law(raw_od)"
   ]
  },
  {
   "cell_type": "code",
   "execution_count": null,
   "id": "d9511993-8456-4de6-b976-922157769d59",
   "metadata": {},
   "outputs": [],
   "source": [
    "raw_haemo"
   ]
  },
  {
   "cell_type": "code",
   "execution_count": null,
   "id": "53937a15-522b-449a-9da9-7ec6088e4cbe",
   "metadata": {},
   "outputs": [],
   "source": [
    "raw_haemo.copy().pick(range(6)).ch_names"
   ]
  },
  {
   "cell_type": "code",
   "execution_count": null,
   "id": "cad12ca3-86d7-4885-baca-2261ba12fd56",
   "metadata": {},
   "outputs": [],
   "source": [
    "# We can now pick based on type\n",
    "raw_haemo.copy().pick(\"hbo\").ch_names"
   ]
  },
  {
   "cell_type": "code",
   "execution_count": null,
   "id": "85476838-a25f-475c-9a04-9088c5053e00",
   "metadata": {},
   "outputs": [],
   "source": [
    "plt.rcParams[\"figure.figsize\"] = (16, 10) # (w, h)\n",
    "raw_haemo.plot(duration=300, n_channels=len(raw_haemo.ch_names), clipping=None);"
   ]
  },
  {
   "cell_type": "code",
   "execution_count": null,
   "id": "7008cd35-bc40-43eb-abf4-80a46970a05e",
   "metadata": {},
   "outputs": [],
   "source": [
    "plt.rcParams[\"figure.figsize\"] = (16, 8) # (w, h)\n",
    "raw_haemo.copy().pick(\"hbo\").plot(duration=300, n_channels=len(raw_haemo.ch_names), clipping=None);"
   ]
  },
  {
   "cell_type": "code",
   "execution_count": null,
   "id": "32929c75-52ad-476c-8d10-0ac59f6e6057",
   "metadata": {},
   "outputs": [],
   "source": [
    "# Changing the scale\n",
    "raw_haemo.copy().pick(\"hbo\").plot(duration=300, n_channels=len(raw_haemo.ch_names), clipping=None, scalings=dict(hbo=5e-5));"
   ]
  },
  {
   "cell_type": "markdown",
   "id": "d48a7a91-c8b1-4a5c-a5b9-b84a5fde635d",
   "metadata": {},
   "source": [
    "## Data Quality"
   ]
  },
  {
   "cell_type": "code",
   "execution_count": null,
   "id": "95e3df7d-ceea-4b2e-80eb-94c805231de4",
   "metadata": {},
   "outputs": [],
   "source": [
    "sci = mne.preprocessing.nirs.scalp_coupling_index(raw_od)\n",
    "sci"
   ]
  },
  {
   "cell_type": "code",
   "execution_count": null,
   "id": "85fb5e5c-a6dc-4f91-b6f6-9e8b2c8156d4",
   "metadata": {},
   "outputs": [],
   "source": [
    "fig, ax = plt.subplots()\n",
    "ax.hist(sci)\n",
    "ax.set(xlabel='Scalp Coupling Index', ylabel='Count', xlim=[0, 1])"
   ]
  },
  {
   "cell_type": "code",
   "execution_count": null,
   "id": "1abfd195-addd-418b-bc1a-582a3d45f35a",
   "metadata": {},
   "outputs": [],
   "source": [
    "# Manual setting of bad channels\n",
    "raw_od.info['bads'] = ['S1_D9 760', 'S1_D9 850']"
   ]
  },
  {
   "cell_type": "code",
   "execution_count": null,
   "id": "3965899b-1db3-4f3f-90c3-9dc22335bb79",
   "metadata": {},
   "outputs": [],
   "source": [
    "raw_od"
   ]
  },
  {
   "cell_type": "code",
   "execution_count": null,
   "id": "7933a671-1a99-4350-8fe9-bae1bd4861ac",
   "metadata": {},
   "outputs": [],
   "source": [
    "raw_od.copy().pick(range(20)).plot(duration=300, n_channels=len(raw_od.ch_names), clipping=None);"
   ]
  },
  {
   "cell_type": "code",
   "execution_count": null,
   "id": "5d48823b-1bea-4f80-823d-cef7fa7bcab7",
   "metadata": {},
   "outputs": [],
   "source": [
    "plt.rcParams[\"figure.figsize\"] = (6, 6) # (w, h)\n",
    "raw_od.plot_sensors();"
   ]
  },
  {
   "cell_type": "code",
   "execution_count": null,
   "id": "8904c4cb-58a1-49fe-ae18-af2af23b21ba",
   "metadata": {},
   "outputs": [],
   "source": [
    "# Run sci just on first 30 seconds of data\n",
    "sci = mne.preprocessing.nirs.scalp_coupling_index(raw_od.copy().crop(tmax=30))"
   ]
  },
  {
   "cell_type": "code",
   "execution_count": null,
   "id": "277e5be5-352e-4eba-8318-b8d7ba72f4e2",
   "metadata": {},
   "outputs": [],
   "source": [
    "from mne_nirs.preprocessing import peak_power, scalp_coupling_index_windowed\n",
    "from mne_nirs.visualisation import plot_timechannel_quality_metric\n",
    "\n",
    "_, scores, times = scalp_coupling_index_windowed(raw_od, time_window=60)\n",
    "plot_timechannel_quality_metric(raw_od, scores, times, threshold=0.7,\n",
    "                                title=\"Scalp Coupling Index \"\n",
    "                                      \"Quality Evaluation\");"
   ]
  },
  {
   "cell_type": "markdown",
   "id": "181200e6-2271-4563-ae77-895eeb530fb6",
   "metadata": {},
   "source": [
    "## Waveform analysis"
   ]
  },
  {
   "cell_type": "markdown",
   "id": "0beb7e67-6423-43f1-900a-828a67aaaf98",
   "metadata": {},
   "source": [
    "### Preprocessing"
   ]
  },
  {
   "cell_type": "code",
   "execution_count": null,
   "id": "6f8742ae-32fb-4abd-8215-1f8ad4d8881b",
   "metadata": {},
   "outputs": [],
   "source": [
    "raw_intensity = read_raw_bids(bids_path=bids_path, verbose=False)\n",
    "\n",
    "raw_od = mne.preprocessing.nirs.optical_density(raw_intensity)\n",
    "raw_haemo = mne.preprocessing.nirs.beer_lambert_law(raw_od)"
   ]
  },
  {
   "cell_type": "code",
   "execution_count": null,
   "id": "0609e293-9ec6-43ff-b43f-70202860677a",
   "metadata": {},
   "outputs": [],
   "source": [
    "raw_haemo = mne_nirs.channels.get_long_channels(raw_haemo)"
   ]
  },
  {
   "cell_type": "code",
   "execution_count": null,
   "id": "4110671f-68d7-4853-b66a-b4a62728f62d",
   "metadata": {},
   "outputs": [],
   "source": [
    "raw_haemo.plot_psd(average=True);"
   ]
  },
  {
   "cell_type": "markdown",
   "id": "3facbc45-e3c0-46e8-b25f-30a46b1cf964",
   "metadata": {},
   "source": [
    "### Filtering"
   ]
  },
  {
   "cell_type": "code",
   "execution_count": null,
   "id": "1dfd76c5-f30c-4ade-9ac2-fdd3372539dc",
   "metadata": {},
   "outputs": [],
   "source": [
    "plt.rcParams[\"figure.figsize\"] = (16, 14) # (w, h)\n",
    "raw_haemo.plot_psd(average=False);"
   ]
  },
  {
   "cell_type": "code",
   "execution_count": null,
   "id": "635b5f29-fc2f-4d00-8808-06d5debe6bce",
   "metadata": {},
   "outputs": [],
   "source": [
    "raw_haemo = raw_haemo.filter(0.05, 0.7, h_trans_bandwidth=0.2, l_trans_bandwidth=0.02)"
   ]
  },
  {
   "cell_type": "code",
   "execution_count": null,
   "id": "e59e8593-cd21-44ee-8a9e-9dd8f07c659f",
   "metadata": {},
   "outputs": [],
   "source": [
    "raw_haemo.plot_psd(average=True);"
   ]
  },
  {
   "cell_type": "markdown",
   "id": "91e3eed1-2f75-46c7-b686-b282424ce66b",
   "metadata": {},
   "source": [
    "### Epoching"
   ]
  },
  {
   "cell_type": "code",
   "execution_count": null,
   "id": "76d8ef58-c65f-406c-9217-d2e8eac8340b",
   "metadata": {},
   "outputs": [],
   "source": [
    "events, event_id = mne.events_from_annotations(raw_haemo)"
   ]
  },
  {
   "cell_type": "code",
   "execution_count": null,
   "id": "cf15e31d-391f-45c3-8250-9d29ebf79dc4",
   "metadata": {},
   "outputs": [],
   "source": [
    "plt.rcParams[\"figure.figsize\"] = (16, 6) # (w, h)\n",
    "\n",
    "fig = mne.viz.plot_events(events, event_id=event_id, sfreq=raw_haemo.info['sfreq'])\n",
    "fig.subplots_adjust(right=0.7)  # make room for the legend"
   ]
  },
  {
   "cell_type": "code",
   "execution_count": null,
   "id": "b47e071d-ad1d-4278-acfe-fd436e81714d",
   "metadata": {},
   "outputs": [],
   "source": [
    "reject_criteria = dict(hbo=80e-6)\n",
    "tmin, tmax = -5, 15\n",
    "\n",
    "epochs = mne.Epochs(raw_haemo, events, event_id=event_id,\n",
    "                    tmin=tmin, tmax=tmax, preload=True,\n",
    "                    reject=reject_criteria, reject_by_annotation=True)"
   ]
  },
  {
   "cell_type": "code",
   "execution_count": null,
   "id": "2e0c9e91-0637-4549-82db-c81c4ce6a564",
   "metadata": {},
   "outputs": [],
   "source": [
    "plt.rcParams[\"figure.figsize\"] = (16, 8) # (w, h)\n",
    "epochs.plot_drop_log();"
   ]
  },
  {
   "cell_type": "code",
   "execution_count": null,
   "id": "21247af2-17cb-4603-a98d-ae75af9e8445",
   "metadata": {},
   "outputs": [],
   "source": [
    "epochs"
   ]
  },
  {
   "cell_type": "code",
   "execution_count": null,
   "id": "f7f3c56c-82b0-49aa-8d0f-cdb04291769e",
   "metadata": {},
   "outputs": [],
   "source": [
    "epochs['Tapping']"
   ]
  },
  {
   "cell_type": "code",
   "execution_count": null,
   "id": "fe457bb1-2336-4aa4-a782-0e1b30ab611e",
   "metadata": {},
   "outputs": [],
   "source": [
    "epochs['Tapping/Right']"
   ]
  },
  {
   "cell_type": "code",
   "execution_count": null,
   "id": "725c74ff-6d4a-49f7-88ef-8c4148993836",
   "metadata": {},
   "outputs": [],
   "source": [
    "epochs['Tapping/Right'].average()"
   ]
  },
  {
   "cell_type": "code",
   "execution_count": null,
   "id": "183c1ab0-c3ea-4d7d-a42d-1ebce46a6cc3",
   "metadata": {},
   "outputs": [],
   "source": [
    "epochs['Tapping/Right'].average().plot();"
   ]
  },
  {
   "cell_type": "code",
   "execution_count": null,
   "id": "72860d37-6f24-41a7-8cfa-620b4fa6d23f",
   "metadata": {},
   "outputs": [],
   "source": [
    "evoked = epochs['Tapping/Right'].average()"
   ]
  },
  {
   "cell_type": "markdown",
   "id": "2d755119-47f0-4519-bef7-19dde6f464b4",
   "metadata": {},
   "source": [
    "### Plotting"
   ]
  },
  {
   "cell_type": "code",
   "execution_count": null,
   "id": "06847885-446a-4c7d-80c8-a4e0bf10964d",
   "metadata": {},
   "outputs": [],
   "source": [
    "evoked.plot();"
   ]
  },
  {
   "cell_type": "code",
   "execution_count": null,
   "id": "23712a7a-3b9d-40cd-a5cc-c18735cac0d2",
   "metadata": {},
   "outputs": [],
   "source": [
    "evoked.pick(picks='hbo').plot_joint(times=[-2, 0, 3, 6, 9, 12], topomap_args=dict(extrapolate='local'));"
   ]
  },
  {
   "cell_type": "code",
   "execution_count": null,
   "id": "615b9635-bb17-478e-bfbf-301e6db7d125",
   "metadata": {},
   "outputs": [],
   "source": [
    "evoked_dict = {'Tapping/HbO': epochs['Tapping'].average(picks='hbo').rename_channels(lambda x: x[:-4])}\n",
    "\n",
    "mne.viz.plot_compare_evokeds(evoked_dict, combine=\"mean\")"
   ]
  },
  {
   "cell_type": "code",
   "execution_count": null,
   "id": "77ce0ca3-8f39-4dc6-8394-f3fd883156bc",
   "metadata": {},
   "outputs": [],
   "source": [
    "evoked_dict"
   ]
  },
  {
   "cell_type": "code",
   "execution_count": null,
   "id": "f2f09a90-405f-47e3-ac0e-0530a657adac",
   "metadata": {},
   "outputs": [],
   "source": [
    "evoked_dict = {'Tapping/HbO': epochs['Tapping'].average(picks='hbo'),\n",
    "               'Tapping/HbR': epochs['Tapping'].average(picks='hbr'),\n",
    "               'Control/HbO': epochs['Control'].average(picks='hbo'),\n",
    "               'Control/HbR': epochs['Control'].average(picks='hbr')}\n",
    "evoked_dict"
   ]
  },
  {
   "cell_type": "code",
   "execution_count": null,
   "id": "daf0565a-2480-4de2-a719-a8187a51239f",
   "metadata": {},
   "outputs": [],
   "source": [
    "for condition in evoked_dict:\n",
    "    evoked_dict[condition].rename_channels(lambda x: x[:-4])\n",
    "\n",
    "color_dict = dict(HbO='r', HbR='b')\n",
    "styles_dict = dict(Control=dict(linestyle='dashed'))\n",
    "\n",
    "mne.viz.plot_compare_evokeds(evoked_dict, combine=\"mean\", colors=color_dict, styles=styles_dict)"
   ]
  },
  {
   "cell_type": "code",
   "execution_count": null,
   "id": "56f5ab5f-d4fa-40c3-8138-58f63a0de030",
   "metadata": {},
   "outputs": [],
   "source": [
    "plt.rcParams[\"figure.figsize\"] = (10, 8) # (w, h)\n",
    "epochs['Tapping'].copy().pick(\"hbo\").plot_image(combine='mean', vmin=-30, vmax=30,\n",
    "                                                ts_args=dict(ylim=dict(hbo=[-15, 15],\n",
    "                                                                       hbr=[-15, 15])))"
   ]
  },
  {
   "cell_type": "markdown",
   "id": "7c0e791c-91bc-4daa-b8bf-719dd33989b3",
   "metadata": {},
   "source": [
    "# Statistical Summary"
   ]
  },
  {
   "cell_type": "code",
   "execution_count": null,
   "id": "e5511047-a396-45ab-a429-8735338f163b",
   "metadata": {},
   "outputs": [],
   "source": [
    "epochs[\"Tapping\"]"
   ]
  },
  {
   "cell_type": "code",
   "execution_count": null,
   "id": "72a3cb87-594e-426f-9954-25cb183de699",
   "metadata": {},
   "outputs": [],
   "source": [
    "import pandas as pd\n",
    "\n",
    "results = pd.DataFrame()\n",
    "\n",
    "for epoch in epochs[\"Tapping\"].copy().pick(\"hbo\").crop(tmin=4, tmax=6):\n",
    "\n",
    "    results = results.append({\"Value\": epoch.mean() * 1e6, \n",
    "                              \"Condition\": \"Tapping\"}, \n",
    "                             ignore_index=True)"
   ]
  },
  {
   "cell_type": "code",
   "execution_count": null,
   "id": "85f9b761-0d7e-4071-8752-17bfc5191a03",
   "metadata": {},
   "outputs": [],
   "source": [
    "results.tail()"
   ]
  },
  {
   "cell_type": "code",
   "execution_count": null,
   "id": "f69c9cd6-9ba1-44b4-9ef1-62a942e4bc77",
   "metadata": {},
   "outputs": [],
   "source": [
    "for epoch in epochs[\"Control\"].copy().pick(\"hbo\").crop(tmin=4, tmax=6):\n",
    "\n",
    "    results = results.append({\"Value\": epoch.mean() * 1e6,\n",
    "                              \"Condition\": \"Control\"},\n",
    "                             ignore_index=True)"
   ]
  },
  {
   "cell_type": "code",
   "execution_count": null,
   "id": "655a0b13-7888-41f1-9f74-e21cfeccf352",
   "metadata": {},
   "outputs": [],
   "source": [
    "results[\"ID\"] = \"P01\"\n",
    "results.to_csv(\"WaveformResults.csv\")  # Now you can analyse this in your favorite stats program"
   ]
  },
  {
   "cell_type": "code",
   "execution_count": null,
   "id": "3cb945fa-1067-41f5-9f95-43098e130d74",
   "metadata": {},
   "outputs": [],
   "source": [
    "results"
   ]
  },
  {
   "cell_type": "markdown",
   "id": "8ec20a9d-f313-4a4c-b3c6-a31247c2b55e",
   "metadata": {},
   "source": [
    "# Statistical comparison of conditions"
   ]
  },
  {
   "cell_type": "code",
   "execution_count": null,
   "id": "8f00881f-120d-4a76-9ee4-521298b09bd7",
   "metadata": {},
   "outputs": [],
   "source": [
    "import dabest\n",
    "analysis_of_long_df = dabest.load(results, idx=(\"Control\", \"Tapping\"), x=\"Condition\", y=\"Value\")"
   ]
  },
  {
   "cell_type": "code",
   "execution_count": null,
   "id": "c28a7d88-d46c-44be-9465-35af852c9aa8",
   "metadata": {},
   "outputs": [],
   "source": [
    "analysis_of_long_df"
   ]
  },
  {
   "cell_type": "code",
   "execution_count": null,
   "id": "78a31f9f-f8a2-45a0-b9ac-409fa70ab069",
   "metadata": {},
   "outputs": [],
   "source": [
    "analysis_of_long_df.mean_diff.plot(swarm_label=\"Oxyhaemoglobin (µM)\\nEpoched value [4-6 seconds]\");"
   ]
  },
  {
   "cell_type": "code",
   "execution_count": null,
   "id": "8fed1183-ee32-4ff3-b243-52596a05a856",
   "metadata": {},
   "outputs": [],
   "source": [
    "analysis_of_long_df.mean_diff"
   ]
  },
  {
   "cell_type": "code",
   "execution_count": null,
   "id": "e6fa56eb-1711-42fd-b402-cfcbc0c0a184",
   "metadata": {},
   "outputs": [],
   "source": [
    "analysis_of_long_df.mean_diff.statistical_tests"
   ]
  },
  {
   "cell_type": "markdown",
   "id": "1c7315f3-77ea-417f-9e2f-ccc1325b34fc",
   "metadata": {},
   "source": [
    "## Traditional Stats"
   ]
  },
  {
   "cell_type": "code",
   "execution_count": null,
   "id": "f420c5c3-93a8-4537-8869-1e9bfd06a0b3",
   "metadata": {},
   "outputs": [],
   "source": [
    "from scipy import stats"
   ]
  },
  {
   "cell_type": "code",
   "execution_count": null,
   "id": "c4051625-c4bf-4baf-92b0-c20d6443f657",
   "metadata": {},
   "outputs": [],
   "source": [
    "results_tapping = results.query('Condition == \"Tapping\"').Value\n",
    "results_control = results.query('Condition == \"Control\"').Value"
   ]
  },
  {
   "cell_type": "code",
   "execution_count": null,
   "id": "17a3f37a-52a6-401f-a208-b4082507834e",
   "metadata": {},
   "outputs": [],
   "source": [
    "stats.ttest_1samp(results_tapping, 0.0)"
   ]
  },
  {
   "cell_type": "code",
   "execution_count": null,
   "id": "9f3e6823-4f24-4c66-865c-c828eca552b9",
   "metadata": {},
   "outputs": [],
   "source": [
    "stats.ttest_1samp(results_control, 0.0)"
   ]
  }
 ],
 "metadata": {
  "kernelspec": {
   "display_name": "Python [conda env:mne]",
   "language": "python",
   "name": "conda-env-mne-py"
  },
  "language_info": {
   "codemirror_mode": {
    "name": "ipython",
    "version": 3
   },
   "file_extension": ".py",
   "mimetype": "text/x-python",
   "name": "python",
   "nbconvert_exporter": "python",
   "pygments_lexer": "ipython3",
   "version": "3.9.4"
  }
 },
 "nbformat": 4,
 "nbformat_minor": 5
}
